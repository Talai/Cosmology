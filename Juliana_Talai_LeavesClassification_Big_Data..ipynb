{
 "cells": [
  {
   "cell_type": "markdown",
   "metadata": {},
   "source": [
    "# JULIANA TULA TALAI.\n",
    "## BIG DATA AND MACHINE LEARNING PROJECT."
   ]
  },
  {
   "cell_type": "markdown",
   "metadata": {},
   "source": [
    "# Leaf Classification\n",
    "\n",
    "There are estimated to be nearly half a million species of plant in the world. Classification of species has been historically problematic and often results in duplicate identifications. Automating plant recognition might have many applications, including:\n",
    "\n",
    "- Species population tracking and preservation\n",
    "- Plant-based medicinal research\n",
    "- Crop and food supply management\n",
    "\n",
    "The objective of this work is to use binary leaf images and extracted features, including shape, margin & texture, to accurately identify 99 species of plants. Leaves, due to their volume, prevalence, and unique characteristics, are an effective means of differentiating plant species. \n"
   ]
  },
  {
   "cell_type": "markdown",
   "metadata": {},
   "source": [
    "# Preliminaries "
   ]
  },
  {
   "cell_type": "code",
   "execution_count": 1,
   "metadata": {
    "collapsed": true
   },
   "outputs": [],
   "source": [
    "import matplotlib\n",
    "import matplotlib.pylab as pylab\n",
    "import matplotlib.pyplot as plt\n",
    "import numpy as np\n",
    "import pandas as pd\n",
    "import sklearn as skl\n",
    "import sklearn.preprocessing as pr\n",
    "import sklearn.ensemble as en\n",
    "from sklearn import linear_model as lm\n",
    "from sklearn import model_selection\n",
    "from sklearn.metrics import accuracy_score\n",
    "from sklearn.neighbors import KNeighborsClassifier\n",
    "from sklearn.tree import DecisionTreeClassifier\n",
    "from sklearn.metrics import log_loss\n",
    "# This ensures plots are shown in the notebook.\n",
    "%matplotlib inline \n",
    "# Set default plot size\n",
    "pylab.rcParams['figure.figsize'] = 16, 12\n",
    "\n",
    "# Just to switch off pandas warning\n",
    "pd.options.mode.chained_assignment = None"
   ]
  },
  {
   "cell_type": "markdown",
   "metadata": {},
   "source": [
    "# Loading data into jupyter notebook"
   ]
  },
  {
   "cell_type": "code",
   "execution_count": 2,
   "metadata": {
    "collapsed": true
   },
   "outputs": [],
   "source": [
    "raw_data = pd.read_csv(\"train.csv\") "
   ]
  },
  {
   "cell_type": "markdown",
   "metadata": {},
   "source": [
    "# Data exploration"
   ]
  },
  {
   "cell_type": "code",
   "execution_count": 3,
   "metadata": {
    "collapsed": true
   },
   "outputs": [],
   "source": [
    "n_rows = raw_data.count()[1]    #number of rows and features\n",
    "n_features = raw_data.shape[1]"
   ]
  },
  {
   "cell_type": "code",
   "execution_count": 4,
   "metadata": {
    "collapsed": false
   },
   "outputs": [
    {
     "data": {
      "text/plain": [
       "990"
      ]
     },
     "execution_count": 4,
     "metadata": {},
     "output_type": "execute_result"
    }
   ],
   "source": [
    "n_rows"
   ]
  },
  {
   "cell_type": "code",
   "execution_count": 5,
   "metadata": {
    "collapsed": false
   },
   "outputs": [
    {
     "data": {
      "text/plain": [
       "194"
      ]
     },
     "execution_count": 5,
     "metadata": {},
     "output_type": "execute_result"
    }
   ],
   "source": [
    "n_features"
   ]
  },
  {
   "cell_type": "code",
   "execution_count": 6,
   "metadata": {
    "collapsed": false
   },
   "outputs": [
    {
     "data": {
      "text/plain": [
       "(990, 194)"
      ]
     },
     "execution_count": 6,
     "metadata": {},
     "output_type": "execute_result"
    }
   ],
   "source": [
    "raw_data.shape"
   ]
  },
  {
   "cell_type": "markdown",
   "metadata": {},
   "source": [
    "The dataset is comprised of 99 unique species each with a sample of 10 subspecies."
   ]
  },
  {
   "cell_type": "code",
   "execution_count": 7,
   "metadata": {
    "collapsed": false
   },
   "outputs": [
    {
     "data": {
      "text/plain": [
       "99"
      ]
     },
     "execution_count": 7,
     "metadata": {},
     "output_type": "execute_result"
    }
   ],
   "source": [
    "len(set(raw_data.species))"
   ]
  },
  {
   "cell_type": "code",
   "execution_count": 8,
   "metadata": {
    "collapsed": false
   },
   "outputs": [
    {
     "data": {
      "text/plain": [
       "species\n",
       "Acer_Capillipes                 10\n",
       "Acer_Circinatum                 10\n",
       "Acer_Mono                       10\n",
       "Acer_Opalus                     10\n",
       "Acer_Palmatum                   10\n",
       "Acer_Pictum                     10\n",
       "Acer_Platanoids                 10\n",
       "Acer_Rubrum                     10\n",
       "Acer_Rufinerve                  10\n",
       "Acer_Saccharinum                10\n",
       "Alnus_Cordata                   10\n",
       "Alnus_Maximowiczii              10\n",
       "Alnus_Rubra                     10\n",
       "Alnus_Sieboldiana               10\n",
       "Alnus_Viridis                   10\n",
       "Arundinaria_Simonii             10\n",
       "Betula_Austrosinensis           10\n",
       "Betula_Pendula                  10\n",
       "Callicarpa_Bodinieri            10\n",
       "Castanea_Sativa                 10\n",
       "Celtis_Koraiensis               10\n",
       "Cercis_Siliquastrum             10\n",
       "Cornus_Chinensis                10\n",
       "Cornus_Controversa              10\n",
       "Cornus_Macrophylla              10\n",
       "Cotinus_Coggygria               10\n",
       "Crataegus_Monogyna              10\n",
       "Cytisus_Battandieri             10\n",
       "Eucalyptus_Glaucescens          10\n",
       "Eucalyptus_Neglecta             10\n",
       "                                ..\n",
       "Quercus_Kewensis                10\n",
       "Quercus_Nigra                   10\n",
       "Quercus_Palustris               10\n",
       "Quercus_Phellos                 10\n",
       "Quercus_Phillyraeoides          10\n",
       "Quercus_Pontica                 10\n",
       "Quercus_Pubescens               10\n",
       "Quercus_Pyrenaica               10\n",
       "Quercus_Rhysophylla             10\n",
       "Quercus_Rubra                   10\n",
       "Quercus_Semecarpifolia          10\n",
       "Quercus_Shumardii               10\n",
       "Quercus_Suber                   10\n",
       "Quercus_Texana                  10\n",
       "Quercus_Trojana                 10\n",
       "Quercus_Variabilis              10\n",
       "Quercus_Vulcanica               10\n",
       "Quercus_x_Hispanica             10\n",
       "Quercus_x_Turneri               10\n",
       "Rhododendron_x_Russellianum     10\n",
       "Salix_Fragilis                  10\n",
       "Salix_Intergra                  10\n",
       "Sorbus_Aria                     10\n",
       "Tilia_Oliveri                   10\n",
       "Tilia_Platyphyllos              10\n",
       "Tilia_Tomentosa                 10\n",
       "Ulmus_Bergmanniana              10\n",
       "Viburnum_Tinus                  10\n",
       "Viburnum_x_Rhytidophylloides    10\n",
       "Zelkova_Serrata                 10\n",
       "Name: species, dtype: int64"
      ]
     },
     "execution_count": 8,
     "metadata": {},
     "output_type": "execute_result"
    }
   ],
   "source": [
    "raw_data.groupby('species').species.count()"
   ]
  },
  {
   "cell_type": "markdown",
   "metadata": {},
   "source": [
    "# To check for missing data"
   ]
  },
  {
   "cell_type": "code",
   "execution_count": 9,
   "metadata": {
    "collapsed": false
   },
   "outputs": [
    {
     "data": {
      "text/plain": [
       "[]"
      ]
     },
     "execution_count": 9,
     "metadata": {},
     "output_type": "execute_result"
    }
   ],
   "source": [
    "A = []\n",
    "for i in range(n_features):\n",
    "    if raw_data.isnull().sum()[i]:\n",
    "        A.append(raw_data.isnull().sum()[i])\n",
    "A    "
   ]
  },
  {
   "cell_type": "code",
   "execution_count": 10,
   "metadata": {
    "collapsed": false
   },
   "outputs": [
    {
     "data": {
      "text/plain": [
       "id           0\n",
       "species      0\n",
       "margin1      0\n",
       "margin2      0\n",
       "margin3      0\n",
       "margin4      0\n",
       "margin5      0\n",
       "margin6      0\n",
       "margin7      0\n",
       "margin8      0\n",
       "margin9      0\n",
       "margin10     0\n",
       "margin11     0\n",
       "margin12     0\n",
       "margin13     0\n",
       "margin14     0\n",
       "margin15     0\n",
       "margin16     0\n",
       "margin17     0\n",
       "margin18     0\n",
       "margin19     0\n",
       "margin20     0\n",
       "margin21     0\n",
       "margin22     0\n",
       "margin23     0\n",
       "margin24     0\n",
       "margin25     0\n",
       "margin26     0\n",
       "margin27     0\n",
       "margin28     0\n",
       "            ..\n",
       "texture35    0\n",
       "texture36    0\n",
       "texture37    0\n",
       "texture38    0\n",
       "texture39    0\n",
       "texture40    0\n",
       "texture41    0\n",
       "texture42    0\n",
       "texture43    0\n",
       "texture44    0\n",
       "texture45    0\n",
       "texture46    0\n",
       "texture47    0\n",
       "texture48    0\n",
       "texture49    0\n",
       "texture50    0\n",
       "texture51    0\n",
       "texture52    0\n",
       "texture53    0\n",
       "texture54    0\n",
       "texture55    0\n",
       "texture56    0\n",
       "texture57    0\n",
       "texture58    0\n",
       "texture59    0\n",
       "texture60    0\n",
       "texture61    0\n",
       "texture62    0\n",
       "texture63    0\n",
       "texture64    0\n",
       "dtype: int64"
      ]
     },
     "execution_count": 10,
     "metadata": {},
     "output_type": "execute_result"
    }
   ],
   "source": [
    "raw_data.isnull().sum()"
   ]
  },
  {
   "cell_type": "markdown",
   "metadata": {},
   "source": [
    "There is no missing data in the dataset"
   ]
  },
  {
   "cell_type": "markdown",
   "metadata": {},
   "source": [
    "# Structure of the data"
   ]
  },
  {
   "cell_type": "code",
   "execution_count": 97,
   "metadata": {
    "collapsed": false
   },
   "outputs": [
    {
     "data": {
      "text/plain": [
       "id                 int64\n",
       "species           object\n",
       "margin1          float64\n",
       "margin2          float64\n",
       "margin3          float64\n",
       "margin4          float64\n",
       "margin5          float64\n",
       "margin6          float64\n",
       "margin7          float64\n",
       "margin8          float64\n",
       "margin9          float64\n",
       "margin10         float64\n",
       "margin11         float64\n",
       "margin12         float64\n",
       "margin13         float64\n",
       "margin14         float64\n",
       "margin15         float64\n",
       "margin16         float64\n",
       "margin17         float64\n",
       "margin18         float64\n",
       "margin19         float64\n",
       "margin20         float64\n",
       "margin21         float64\n",
       "margin22         float64\n",
       "margin23         float64\n",
       "margin24         float64\n",
       "margin25         float64\n",
       "margin26         float64\n",
       "margin27         float64\n",
       "margin28         float64\n",
       "                  ...   \n",
       "texture36        float64\n",
       "texture37        float64\n",
       "texture38        float64\n",
       "texture39        float64\n",
       "texture40        float64\n",
       "texture41        float64\n",
       "texture42        float64\n",
       "texture43        float64\n",
       "texture44        float64\n",
       "texture45        float64\n",
       "texture46        float64\n",
       "texture47        float64\n",
       "texture48        float64\n",
       "texture49        float64\n",
       "texture50        float64\n",
       "texture51        float64\n",
       "texture52        float64\n",
       "texture53        float64\n",
       "texture54        float64\n",
       "texture55        float64\n",
       "texture56        float64\n",
       "texture57        float64\n",
       "texture58        float64\n",
       "texture59        float64\n",
       "texture60        float64\n",
       "texture61        float64\n",
       "texture62        float64\n",
       "texture63        float64\n",
       "texture64        float64\n",
       "class_species      int64\n",
       "dtype: object"
      ]
     },
     "execution_count": 97,
     "metadata": {},
     "output_type": "execute_result"
    }
   ],
   "source": [
    "raw_data.dtypes  #The feature values are floats"
   ]
  },
  {
   "cell_type": "markdown",
   "metadata": {
    "collapsed": false
   },
   "source": [
    "# Assign numerical  values to string(species) response variable"
   ]
  },
  {
   "cell_type": "markdown",
   "metadata": {},
   "source": [
    "Label encoder transforms the species labels such that we have values between 0 and n_classes-1, that is, (0 and 98) classes which are our species classes."
   ]
  },
  {
   "cell_type": "code",
   "execution_count": 12,
   "metadata": {
    "collapsed": false
   },
   "outputs": [
    {
     "data": {
      "text/plain": [
       "LabelEncoder()"
      ]
     },
     "execution_count": 12,
     "metadata": {},
     "output_type": "execute_result"
    }
   ],
   "source": [
    "le = pr.LabelEncoder()\n",
    "le.fit(raw_data.species)"
   ]
  },
  {
   "cell_type": "code",
   "execution_count": 98,
   "metadata": {
    "collapsed": false
   },
   "outputs": [],
   "source": [
    "raw_data.loc[:,'class_species'] = le.transform(raw_data.species)#Transforming the species column to numerical variables"
   ]
  },
  {
   "cell_type": "code",
   "execution_count": 14,
   "metadata": {
    "collapsed": false
   },
   "outputs": [
    {
     "data": {
      "text/html": [
       "<div>\n",
       "<table border=\"1\" class=\"dataframe\">\n",
       "  <thead>\n",
       "    <tr style=\"text-align: right;\">\n",
       "      <th></th>\n",
       "      <th>id</th>\n",
       "      <th>species</th>\n",
       "      <th>margin1</th>\n",
       "      <th>margin2</th>\n",
       "      <th>margin3</th>\n",
       "      <th>margin4</th>\n",
       "      <th>margin5</th>\n",
       "      <th>margin6</th>\n",
       "      <th>margin7</th>\n",
       "      <th>margin8</th>\n",
       "      <th>...</th>\n",
       "      <th>texture56</th>\n",
       "      <th>texture57</th>\n",
       "      <th>texture58</th>\n",
       "      <th>texture59</th>\n",
       "      <th>texture60</th>\n",
       "      <th>texture61</th>\n",
       "      <th>texture62</th>\n",
       "      <th>texture63</th>\n",
       "      <th>texture64</th>\n",
       "      <th>class_species</th>\n",
       "    </tr>\n",
       "  </thead>\n",
       "  <tbody>\n",
       "    <tr>\n",
       "      <th>111</th>\n",
       "      <td>201</td>\n",
       "      <td>Acer_Capillipes</td>\n",
       "      <td>0.001953</td>\n",
       "      <td>0.000000</td>\n",
       "      <td>0.017578</td>\n",
       "      <td>0.001953</td>\n",
       "      <td>0.054688</td>\n",
       "      <td>0.001953</td>\n",
       "      <td>0.019531</td>\n",
       "      <td>0.0</td>\n",
       "      <td>...</td>\n",
       "      <td>0.0</td>\n",
       "      <td>0.011719</td>\n",
       "      <td>0.0</td>\n",
       "      <td>0.019531</td>\n",
       "      <td>0.0</td>\n",
       "      <td>0.0</td>\n",
       "      <td>0.0</td>\n",
       "      <td>0.029297</td>\n",
       "      <td>0.025391</td>\n",
       "      <td>0</td>\n",
       "    </tr>\n",
       "    <tr>\n",
       "      <th>951</th>\n",
       "      <td>1525</td>\n",
       "      <td>Acer_Capillipes</td>\n",
       "      <td>0.000000</td>\n",
       "      <td>0.000000</td>\n",
       "      <td>0.013672</td>\n",
       "      <td>0.015625</td>\n",
       "      <td>0.035156</td>\n",
       "      <td>0.000000</td>\n",
       "      <td>0.023438</td>\n",
       "      <td>0.0</td>\n",
       "      <td>...</td>\n",
       "      <td>0.0</td>\n",
       "      <td>0.008789</td>\n",
       "      <td>0.0</td>\n",
       "      <td>0.011719</td>\n",
       "      <td>0.0</td>\n",
       "      <td>0.0</td>\n",
       "      <td>0.0</td>\n",
       "      <td>0.021484</td>\n",
       "      <td>0.000977</td>\n",
       "      <td>0</td>\n",
       "    </tr>\n",
       "    <tr>\n",
       "      <th>370</th>\n",
       "      <td>610</td>\n",
       "      <td>Acer_Capillipes</td>\n",
       "      <td>0.001953</td>\n",
       "      <td>0.001953</td>\n",
       "      <td>0.025391</td>\n",
       "      <td>0.017578</td>\n",
       "      <td>0.029297</td>\n",
       "      <td>0.005859</td>\n",
       "      <td>0.041016</td>\n",
       "      <td>0.0</td>\n",
       "      <td>...</td>\n",
       "      <td>0.0</td>\n",
       "      <td>0.002930</td>\n",
       "      <td>0.0</td>\n",
       "      <td>0.018555</td>\n",
       "      <td>0.0</td>\n",
       "      <td>0.0</td>\n",
       "      <td>0.0</td>\n",
       "      <td>0.036133</td>\n",
       "      <td>0.020508</td>\n",
       "      <td>0</td>\n",
       "    </tr>\n",
       "    <tr>\n",
       "      <th>126</th>\n",
       "      <td>227</td>\n",
       "      <td>Acer_Capillipes</td>\n",
       "      <td>0.001953</td>\n",
       "      <td>0.000000</td>\n",
       "      <td>0.017578</td>\n",
       "      <td>0.013672</td>\n",
       "      <td>0.027344</td>\n",
       "      <td>0.000000</td>\n",
       "      <td>0.009766</td>\n",
       "      <td>0.0</td>\n",
       "      <td>...</td>\n",
       "      <td>0.0</td>\n",
       "      <td>0.009766</td>\n",
       "      <td>0.0</td>\n",
       "      <td>0.019531</td>\n",
       "      <td>0.0</td>\n",
       "      <td>0.0</td>\n",
       "      <td>0.0</td>\n",
       "      <td>0.012695</td>\n",
       "      <td>0.000000</td>\n",
       "      <td>0</td>\n",
       "    </tr>\n",
       "    <tr>\n",
       "      <th>859</th>\n",
       "      <td>1377</td>\n",
       "      <td>Acer_Capillipes</td>\n",
       "      <td>0.001953</td>\n",
       "      <td>0.000000</td>\n",
       "      <td>0.011719</td>\n",
       "      <td>0.029297</td>\n",
       "      <td>0.033203</td>\n",
       "      <td>0.000000</td>\n",
       "      <td>0.017578</td>\n",
       "      <td>0.0</td>\n",
       "      <td>...</td>\n",
       "      <td>0.0</td>\n",
       "      <td>0.005859</td>\n",
       "      <td>0.0</td>\n",
       "      <td>0.020508</td>\n",
       "      <td>0.0</td>\n",
       "      <td>0.0</td>\n",
       "      <td>0.0</td>\n",
       "      <td>0.020508</td>\n",
       "      <td>0.000000</td>\n",
       "      <td>0</td>\n",
       "    </tr>\n",
       "  </tbody>\n",
       "</table>\n",
       "<p>5 rows × 195 columns</p>\n",
       "</div>"
      ],
      "text/plain": [
       "       id          species   margin1   margin2   margin3   margin4   margin5  \\\n",
       "111   201  Acer_Capillipes  0.001953  0.000000  0.017578  0.001953  0.054688   \n",
       "951  1525  Acer_Capillipes  0.000000  0.000000  0.013672  0.015625  0.035156   \n",
       "370   610  Acer_Capillipes  0.001953  0.001953  0.025391  0.017578  0.029297   \n",
       "126   227  Acer_Capillipes  0.001953  0.000000  0.017578  0.013672  0.027344   \n",
       "859  1377  Acer_Capillipes  0.001953  0.000000  0.011719  0.029297  0.033203   \n",
       "\n",
       "      margin6   margin7  margin8      ...        texture56  texture57  \\\n",
       "111  0.001953  0.019531      0.0      ...              0.0   0.011719   \n",
       "951  0.000000  0.023438      0.0      ...              0.0   0.008789   \n",
       "370  0.005859  0.041016      0.0      ...              0.0   0.002930   \n",
       "126  0.000000  0.009766      0.0      ...              0.0   0.009766   \n",
       "859  0.000000  0.017578      0.0      ...              0.0   0.005859   \n",
       "\n",
       "     texture58  texture59  texture60  texture61  texture62  texture63  \\\n",
       "111        0.0   0.019531        0.0        0.0        0.0   0.029297   \n",
       "951        0.0   0.011719        0.0        0.0        0.0   0.021484   \n",
       "370        0.0   0.018555        0.0        0.0        0.0   0.036133   \n",
       "126        0.0   0.019531        0.0        0.0        0.0   0.012695   \n",
       "859        0.0   0.020508        0.0        0.0        0.0   0.020508   \n",
       "\n",
       "     texture64  class_species  \n",
       "111   0.025391              0  \n",
       "951   0.000977              0  \n",
       "370   0.020508              0  \n",
       "126   0.000000              0  \n",
       "859   0.000000              0  \n",
       "\n",
       "[5 rows x 195 columns]"
      ]
     },
     "execution_count": 14,
     "metadata": {},
     "output_type": "execute_result"
    }
   ],
   "source": [
    "raw_data.sort_values(by = 'species').head(5)"
   ]
  },
  {
   "cell_type": "markdown",
   "metadata": {},
   "source": [
    "# Splitting the Data into training and testing data"
   ]
  },
  {
   "cell_type": "markdown",
   "metadata": {},
   "source": [
    "The data is split into train(60%) and test(40%) with the random number generator used for random sampling as 100"
   ]
  },
  {
   "cell_type": "code",
   "execution_count": 15,
   "metadata": {
    "collapsed": true
   },
   "outputs": [],
   "source": [
    "train_raw, test_raw=model_selection.train_test_split(raw_data,test_size=0.4, random_state=100)"
   ]
  },
  {
   "cell_type": "code",
   "execution_count": 16,
   "metadata": {
    "collapsed": false
   },
   "outputs": [
    {
     "data": {
      "text/plain": [
       "594"
      ]
     },
     "execution_count": 16,
     "metadata": {},
     "output_type": "execute_result"
    }
   ],
   "source": [
    "len(train_raw)"
   ]
  },
  {
   "cell_type": "code",
   "execution_count": 17,
   "metadata": {
    "collapsed": false
   },
   "outputs": [
    {
     "data": {
      "text/plain": [
       "396"
      ]
     },
     "execution_count": 17,
     "metadata": {},
     "output_type": "execute_result"
    }
   ],
   "source": [
    "len(test_raw)"
   ]
  },
  {
   "cell_type": "code",
   "execution_count": 18,
   "metadata": {
    "collapsed": false
   },
   "outputs": [
    {
     "data": {
      "text/html": [
       "<div>\n",
       "<table border=\"1\" class=\"dataframe\">\n",
       "  <thead>\n",
       "    <tr style=\"text-align: right;\">\n",
       "      <th></th>\n",
       "      <th>id</th>\n",
       "      <th>species</th>\n",
       "      <th>margin1</th>\n",
       "      <th>margin2</th>\n",
       "      <th>margin3</th>\n",
       "      <th>margin4</th>\n",
       "      <th>margin5</th>\n",
       "      <th>margin6</th>\n",
       "      <th>margin7</th>\n",
       "      <th>margin8</th>\n",
       "      <th>...</th>\n",
       "      <th>texture56</th>\n",
       "      <th>texture57</th>\n",
       "      <th>texture58</th>\n",
       "      <th>texture59</th>\n",
       "      <th>texture60</th>\n",
       "      <th>texture61</th>\n",
       "      <th>texture62</th>\n",
       "      <th>texture63</th>\n",
       "      <th>texture64</th>\n",
       "      <th>class_species</th>\n",
       "    </tr>\n",
       "  </thead>\n",
       "  <tbody>\n",
       "    <tr>\n",
       "      <th>616</th>\n",
       "      <td>976</td>\n",
       "      <td>Salix_Fragilis</td>\n",
       "      <td>0.000000</td>\n",
       "      <td>0.000000</td>\n",
       "      <td>0.035156</td>\n",
       "      <td>0.052734</td>\n",
       "      <td>0.083984</td>\n",
       "      <td>0.000000</td>\n",
       "      <td>0.001953</td>\n",
       "      <td>0.000000</td>\n",
       "      <td>...</td>\n",
       "      <td>0.000000</td>\n",
       "      <td>0.004883</td>\n",
       "      <td>0.092773</td>\n",
       "      <td>0.045898</td>\n",
       "      <td>0.047852</td>\n",
       "      <td>0.000000</td>\n",
       "      <td>0.077148</td>\n",
       "      <td>0.000000</td>\n",
       "      <td>0.002930</td>\n",
       "      <td>89</td>\n",
       "    </tr>\n",
       "    <tr>\n",
       "      <th>151</th>\n",
       "      <td>263</td>\n",
       "      <td>Quercus_Imbricaria</td>\n",
       "      <td>0.046875</td>\n",
       "      <td>0.046875</td>\n",
       "      <td>0.021484</td>\n",
       "      <td>0.013672</td>\n",
       "      <td>0.001953</td>\n",
       "      <td>0.080078</td>\n",
       "      <td>0.013672</td>\n",
       "      <td>0.000000</td>\n",
       "      <td>...</td>\n",
       "      <td>0.008789</td>\n",
       "      <td>0.000000</td>\n",
       "      <td>0.000977</td>\n",
       "      <td>0.011719</td>\n",
       "      <td>0.000000</td>\n",
       "      <td>0.046875</td>\n",
       "      <td>0.036133</td>\n",
       "      <td>0.003906</td>\n",
       "      <td>0.037109</td>\n",
       "      <td>67</td>\n",
       "    </tr>\n",
       "    <tr>\n",
       "      <th>341</th>\n",
       "      <td>561</td>\n",
       "      <td>Populus_Grandidentata</td>\n",
       "      <td>0.007812</td>\n",
       "      <td>0.011719</td>\n",
       "      <td>0.126950</td>\n",
       "      <td>0.007812</td>\n",
       "      <td>0.005859</td>\n",
       "      <td>0.048828</td>\n",
       "      <td>0.007812</td>\n",
       "      <td>0.000000</td>\n",
       "      <td>...</td>\n",
       "      <td>0.000000</td>\n",
       "      <td>0.017578</td>\n",
       "      <td>0.000000</td>\n",
       "      <td>0.002930</td>\n",
       "      <td>0.000000</td>\n",
       "      <td>0.000000</td>\n",
       "      <td>0.011719</td>\n",
       "      <td>0.000977</td>\n",
       "      <td>0.064453</td>\n",
       "      <td>45</td>\n",
       "    </tr>\n",
       "    <tr>\n",
       "      <th>396</th>\n",
       "      <td>651</td>\n",
       "      <td>Acer_Rufinerve</td>\n",
       "      <td>0.000000</td>\n",
       "      <td>0.000000</td>\n",
       "      <td>0.015625</td>\n",
       "      <td>0.003906</td>\n",
       "      <td>0.041016</td>\n",
       "      <td>0.000000</td>\n",
       "      <td>0.011719</td>\n",
       "      <td>0.000000</td>\n",
       "      <td>...</td>\n",
       "      <td>0.016602</td>\n",
       "      <td>0.006836</td>\n",
       "      <td>0.002930</td>\n",
       "      <td>0.020508</td>\n",
       "      <td>0.000000</td>\n",
       "      <td>0.000000</td>\n",
       "      <td>0.022461</td>\n",
       "      <td>0.002930</td>\n",
       "      <td>0.007812</td>\n",
       "      <td>8</td>\n",
       "    </tr>\n",
       "    <tr>\n",
       "      <th>271</th>\n",
       "      <td>450</td>\n",
       "      <td>Cornus_Chinensis</td>\n",
       "      <td>0.039062</td>\n",
       "      <td>0.080078</td>\n",
       "      <td>0.019531</td>\n",
       "      <td>0.015625</td>\n",
       "      <td>0.001953</td>\n",
       "      <td>0.070312</td>\n",
       "      <td>0.013672</td>\n",
       "      <td>0.003906</td>\n",
       "      <td>...</td>\n",
       "      <td>0.000000</td>\n",
       "      <td>0.006836</td>\n",
       "      <td>0.000000</td>\n",
       "      <td>0.041016</td>\n",
       "      <td>0.000000</td>\n",
       "      <td>0.000000</td>\n",
       "      <td>0.006836</td>\n",
       "      <td>0.024414</td>\n",
       "      <td>0.044922</td>\n",
       "      <td>22</td>\n",
       "    </tr>\n",
       "  </tbody>\n",
       "</table>\n",
       "<p>5 rows × 195 columns</p>\n",
       "</div>"
      ],
      "text/plain": [
       "      id                species   margin1   margin2   margin3   margin4  \\\n",
       "616  976         Salix_Fragilis  0.000000  0.000000  0.035156  0.052734   \n",
       "151  263     Quercus_Imbricaria  0.046875  0.046875  0.021484  0.013672   \n",
       "341  561  Populus_Grandidentata  0.007812  0.011719  0.126950  0.007812   \n",
       "396  651         Acer_Rufinerve  0.000000  0.000000  0.015625  0.003906   \n",
       "271  450       Cornus_Chinensis  0.039062  0.080078  0.019531  0.015625   \n",
       "\n",
       "      margin5   margin6   margin7   margin8      ...        texture56  \\\n",
       "616  0.083984  0.000000  0.001953  0.000000      ...         0.000000   \n",
       "151  0.001953  0.080078  0.013672  0.000000      ...         0.008789   \n",
       "341  0.005859  0.048828  0.007812  0.000000      ...         0.000000   \n",
       "396  0.041016  0.000000  0.011719  0.000000      ...         0.016602   \n",
       "271  0.001953  0.070312  0.013672  0.003906      ...         0.000000   \n",
       "\n",
       "     texture57  texture58  texture59  texture60  texture61  texture62  \\\n",
       "616   0.004883   0.092773   0.045898   0.047852   0.000000   0.077148   \n",
       "151   0.000000   0.000977   0.011719   0.000000   0.046875   0.036133   \n",
       "341   0.017578   0.000000   0.002930   0.000000   0.000000   0.011719   \n",
       "396   0.006836   0.002930   0.020508   0.000000   0.000000   0.022461   \n",
       "271   0.006836   0.000000   0.041016   0.000000   0.000000   0.006836   \n",
       "\n",
       "     texture63  texture64  class_species  \n",
       "616   0.000000   0.002930             89  \n",
       "151   0.003906   0.037109             67  \n",
       "341   0.000977   0.064453             45  \n",
       "396   0.002930   0.007812              8  \n",
       "271   0.024414   0.044922             22  \n",
       "\n",
       "[5 rows x 195 columns]"
      ]
     },
     "execution_count": 18,
     "metadata": {},
     "output_type": "execute_result"
    }
   ],
   "source": [
    "train_raw.head()"
   ]
  },
  {
   "cell_type": "markdown",
   "metadata": {
    "collapsed": true
   },
   "source": [
    "# Preparing the data for modelling, we drop the features 'Id' and 'species' as it doesn't carry much information for modelling classification"
   ]
  },
  {
   "cell_type": "code",
   "execution_count": 19,
   "metadata": {
    "collapsed": false
   },
   "outputs": [],
   "source": [
    "t1=train_raw.drop('id',axis=1)    #Train_raw dataset\n",
    "t2= test_raw.drop('id',axis=1)     #Test_raw dataset\n",
    "t1=t1.drop('species',axis=1)\n",
    "t2=t2.drop('species',axis=1)\n",
    "t1=t1.drop('class_species',axis=1)\n",
    "t2=t2.drop('class_species',axis=1)"
   ]
  },
  {
   "cell_type": "code",
   "execution_count": 20,
   "metadata": {
    "collapsed": false
   },
   "outputs": [],
   "source": [
    "ob=list(t1.columns)\n"
   ]
  },
  {
   "cell_type": "markdown",
   "metadata": {},
   "source": [
    "# Assigning response and explanatory variables to numpy array"
   ]
  },
  {
   "cell_type": "code",
   "execution_count": 21,
   "metadata": {
    "collapsed": false
   },
   "outputs": [],
   "source": [
    "def choose_columns(data):\n",
    "    ret_X= np.array(data.loc[:,ob])    #Explanatory variables\n",
    "    ret_Y= data.class_species.values   #Response variable\n",
    "    return ret_X, ret_Y"
   ]
  },
  {
   "cell_type": "code",
   "execution_count": 22,
   "metadata": {
    "collapsed": true
   },
   "outputs": [],
   "source": [
    "train_X, train_Y=choose_columns(train_raw)"
   ]
  },
  {
   "cell_type": "code",
   "execution_count": 23,
   "metadata": {
    "collapsed": false
   },
   "outputs": [],
   "source": [
    "test_X, test_Y=choose_columns(test_raw)"
   ]
  },
  {
   "cell_type": "markdown",
   "metadata": {},
   "source": [
    "# Multinomial logistic regression ( without Normalizing the Data)"
   ]
  },
  {
   "cell_type": "code",
   "execution_count": 24,
   "metadata": {
    "collapsed": true
   },
   "outputs": [],
   "source": [
    "lr1 = lm.LogisticRegressionCV(Cs= 3, fit_intercept=True, cv=5, dual=False, penalty='l2', \n",
    "                        scoring=None, solver='lbfgs', tol=0.0001, max_iter=100, class_weight=None, \n",
    "                        n_jobs=1, verbose=0, refit=True, intercept_scaling=1.0, multi_class='ovr',\n",
    "                        random_state=None)"
   ]
  },
  {
   "cell_type": "markdown",
   "metadata": {},
   "source": [
    "Altering the values of cv and Cs, i realize that the score is better with smaller values of cs and cv=5.Therefore,\n",
    "smaller values bring out stronger regularization.The log loss value also decreases."
   ]
  },
  {
   "cell_type": "code",
   "execution_count": 25,
   "metadata": {
    "collapsed": false
   },
   "outputs": [
    {
     "name": "stderr",
     "output_type": "stream",
     "text": [
      "/home/juliana/.local/lib/python3.4/site-packages/sklearn/model_selection/_split.py:581: Warning: The least populated class in y has only 2 members, which is too few. The minimum number of groups for any class cannot be less than n_splits=5.\n",
      "  % (min_groups, self.n_splits)), Warning)\n"
     ]
    },
    {
     "data": {
      "text/plain": [
       "LogisticRegressionCV(Cs=3, class_weight=None, cv=5, dual=False,\n",
       "           fit_intercept=True, intercept_scaling=1.0, max_iter=100,\n",
       "           multi_class='ovr', n_jobs=1, penalty='l2', random_state=None,\n",
       "           refit=True, scoring=None, solver='lbfgs', tol=0.0001, verbose=0)"
      ]
     },
     "execution_count": 25,
     "metadata": {},
     "output_type": "execute_result"
    }
   ],
   "source": [
    "lr1.fit(train_X,train_Y)"
   ]
  },
  {
   "cell_type": "code",
   "execution_count": 26,
   "metadata": {
    "collapsed": false
   },
   "outputs": [
    {
     "data": {
      "text/plain": [
       "0.9747474747474747"
      ]
     },
     "execution_count": 26,
     "metadata": {},
     "output_type": "execute_result"
    }
   ],
   "source": [
    "lr1.score(train_X, train_Y)"
   ]
  },
  {
   "cell_type": "code",
   "execution_count": 27,
   "metadata": {
    "collapsed": false
   },
   "outputs": [
    {
     "data": {
      "text/plain": [
       "0.86111111111111116"
      ]
     },
     "execution_count": 27,
     "metadata": {},
     "output_type": "execute_result"
    }
   ],
   "source": [
    "lr1.score(test_X, test_Y)"
   ]
  },
  {
   "cell_type": "code",
   "execution_count": 28,
   "metadata": {
    "collapsed": false
   },
   "outputs": [
    {
     "data": {
      "text/plain": [
       "LabelBinarizer(neg_label=0, pos_label=1, sparse_output=False)"
      ]
     },
     "execution_count": 28,
     "metadata": {},
     "output_type": "execute_result"
    }
   ],
   "source": [
    "#This binarizes the class_species to 1 if the species is predicted and 0 if the species is not predicted.\n",
    "lb = pr.LabelBinarizer()\n",
    "lb.fit(train_raw.class_species)"
   ]
  },
  {
   "cell_type": "code",
   "execution_count": 29,
   "metadata": {
    "collapsed": false
   },
   "outputs": [],
   "source": [
    "Y_predicted = lr1.predict(train_X)"
   ]
  },
  {
   "cell_type": "markdown",
   "metadata": {},
   "source": [
    "K and K1 are the label indicator matrices of  1,s if the species is predicted and 0's if the species is not predicted.\n",
    "Pr_Y and Pr_Yt are the predicted probabilities, as returned by  the logistic predict_proba method for train_raw and test_raw respectively."
   ]
  },
  {
   "cell_type": "code",
   "execution_count": 30,
   "metadata": {
    "collapsed": false
   },
   "outputs": [
    {
     "name": "stderr",
     "output_type": "stream",
     "text": [
      "/usr/lib/python3/dist-packages/scipy/sparse/compressed.py:130: VisibleDeprecationWarning: `rank` is deprecated; use the `ndim` attribute or function instead. To find the rank of a matrix see `numpy.linalg.matrix_rank`.\n",
      "  if np.rank(self.data) != 1 or np.rank(self.indices) != 1 or np.rank(self.indptr) != 1:\n",
      "/usr/lib/python3/dist-packages/scipy/sparse/coo.py:200: VisibleDeprecationWarning: `rank` is deprecated; use the `ndim` attribute or function instead. To find the rank of a matrix see `numpy.linalg.matrix_rank`.\n",
      "  if np.rank(self.data) != 1 or np.rank(self.row) != 1 or np.rank(self.col) != 1:\n"
     ]
    }
   ],
   "source": [
    "K =lb.transform(train_raw.class_species)\n",
    "K1 =lb.transform(test_raw.class_species)\n",
    "Pr_Y = lr1.predict_proba(train_X)        \n",
    "Pr_Yt = lr1.predict_proba(test_X)"
   ]
  },
  {
   "cell_type": "markdown",
   "metadata": {},
   "source": [
    "## Log loss value"
   ]
  },
  {
   "cell_type": "code",
   "execution_count": 31,
   "metadata": {
    "collapsed": false
   },
   "outputs": [
    {
     "name": "stderr",
     "output_type": "stream",
     "text": [
      "/usr/lib/python3/dist-packages/scipy/sparse/coo.py:182: VisibleDeprecationWarning: `rank` is deprecated; use the `ndim` attribute or function instead. To find the rank of a matrix see `numpy.linalg.matrix_rank`.\n",
      "  if np.rank(M) != 2:\n",
      "/usr/lib/python3/dist-packages/scipy/sparse/coo.py:200: VisibleDeprecationWarning: `rank` is deprecated; use the `ndim` attribute or function instead. To find the rank of a matrix see `numpy.linalg.matrix_rank`.\n",
      "  if np.rank(self.data) != 1 or np.rank(self.row) != 1 or np.rank(self.col) != 1:\n",
      "/usr/lib/python3/dist-packages/scipy/sparse/compressed.py:130: VisibleDeprecationWarning: `rank` is deprecated; use the `ndim` attribute or function instead. To find the rank of a matrix see `numpy.linalg.matrix_rank`.\n",
      "  if np.rank(self.data) != 1 or np.rank(self.indices) != 1 or np.rank(self.indptr) != 1:\n"
     ]
    },
    {
     "data": {
      "text/plain": [
       "0.15845817583874483"
      ]
     },
     "execution_count": 31,
     "metadata": {},
     "output_type": "execute_result"
    }
   ],
   "source": [
    "#log loss of train\n",
    "log_loss(K, Pr_Y,eps=1e-15, normalize=True, sample_weight=None, labels=None) "
   ]
  },
  {
   "cell_type": "code",
   "execution_count": 32,
   "metadata": {
    "collapsed": false
   },
   "outputs": [
    {
     "name": "stderr",
     "output_type": "stream",
     "text": [
      "/usr/lib/python3/dist-packages/scipy/sparse/coo.py:182: VisibleDeprecationWarning: `rank` is deprecated; use the `ndim` attribute or function instead. To find the rank of a matrix see `numpy.linalg.matrix_rank`.\n",
      "  if np.rank(M) != 2:\n",
      "/usr/lib/python3/dist-packages/scipy/sparse/coo.py:200: VisibleDeprecationWarning: `rank` is deprecated; use the `ndim` attribute or function instead. To find the rank of a matrix see `numpy.linalg.matrix_rank`.\n",
      "  if np.rank(self.data) != 1 or np.rank(self.row) != 1 or np.rank(self.col) != 1:\n",
      "/usr/lib/python3/dist-packages/scipy/sparse/compressed.py:130: VisibleDeprecationWarning: `rank` is deprecated; use the `ndim` attribute or function instead. To find the rank of a matrix see `numpy.linalg.matrix_rank`.\n",
      "  if np.rank(self.data) != 1 or np.rank(self.indices) != 1 or np.rank(self.indptr) != 1:\n"
     ]
    },
    {
     "data": {
      "text/plain": [
       "0.69510681232960647"
      ]
     },
     "execution_count": 32,
     "metadata": {},
     "output_type": "execute_result"
    }
   ],
   "source": [
    "#log loss of test\n",
    "log_loss(K1, Pr_Yt,eps=1e-15, normalize=True, sample_weight=None, labels=None)"
   ]
  },
  {
   "cell_type": "markdown",
   "metadata": {
    "collapsed": true
   },
   "source": [
    "#  K NearestNeighbours (Not normalized data)"
   ]
  },
  {
   "cell_type": "markdown",
   "metadata": {},
   "source": [
    "Adjusting the value of n_neighbors,it is realized that the best score is achieved when the n_neighbors is 7.The logloss function is quite large,so we normalized the data."
   ]
  },
  {
   "cell_type": "code",
   "execution_count": 33,
   "metadata": {
    "collapsed": false
   },
   "outputs": [
    {
     "data": {
      "text/plain": [
       "KNeighborsClassifier(algorithm='auto', leaf_size=30, metric='minkowski',\n",
       "           metric_params=None, n_jobs=1, n_neighbors=7, p=2,\n",
       "           weights='uniform')"
      ]
     },
     "execution_count": 33,
     "metadata": {},
     "output_type": "execute_result"
    }
   ],
   "source": [
    "Nn = KNeighborsClassifier(n_neighbors = 7)\n",
    "Nn.fit(train_X,train_Y)\n"
   ]
  },
  {
   "cell_type": "code",
   "execution_count": 34,
   "metadata": {
    "collapsed": false
   },
   "outputs": [
    {
     "data": {
      "text/plain": [
       "0.84680134680134678"
      ]
     },
     "execution_count": 34,
     "metadata": {},
     "output_type": "execute_result"
    }
   ],
   "source": [
    "Nn.score(train_X,train_Y)"
   ]
  },
  {
   "cell_type": "code",
   "execution_count": 35,
   "metadata": {
    "collapsed": false
   },
   "outputs": [
    {
     "data": {
      "text/plain": [
       "0.72727272727272729"
      ]
     },
     "execution_count": 35,
     "metadata": {},
     "output_type": "execute_result"
    }
   ],
   "source": [
    "Nn.score(test_X,test_Y)"
   ]
  },
  {
   "cell_type": "code",
   "execution_count": 36,
   "metadata": {
    "collapsed": false
   },
   "outputs": [],
   "source": [
    "Prn_Y = Nn.predict_proba(train_X)\n",
    "Prn_Yt =Nn.predict_proba(test_X)"
   ]
  },
  {
   "cell_type": "markdown",
   "metadata": {},
   "source": [
    "## Logloss value"
   ]
  },
  {
   "cell_type": "code",
   "execution_count": 37,
   "metadata": {
    "collapsed": false
   },
   "outputs": [
    {
     "name": "stderr",
     "output_type": "stream",
     "text": [
      "/usr/lib/python3/dist-packages/scipy/sparse/coo.py:182: VisibleDeprecationWarning: `rank` is deprecated; use the `ndim` attribute or function instead. To find the rank of a matrix see `numpy.linalg.matrix_rank`.\n",
      "  if np.rank(M) != 2:\n",
      "/usr/lib/python3/dist-packages/scipy/sparse/coo.py:200: VisibleDeprecationWarning: `rank` is deprecated; use the `ndim` attribute or function instead. To find the rank of a matrix see `numpy.linalg.matrix_rank`.\n",
      "  if np.rank(self.data) != 1 or np.rank(self.row) != 1 or np.rank(self.col) != 1:\n",
      "/usr/lib/python3/dist-packages/scipy/sparse/compressed.py:130: VisibleDeprecationWarning: `rank` is deprecated; use the `ndim` attribute or function instead. To find the rank of a matrix see `numpy.linalg.matrix_rank`.\n",
      "  if np.rank(self.data) != 1 or np.rank(self.indices) != 1 or np.rank(self.indptr) != 1:\n"
     ]
    },
    {
     "data": {
      "text/plain": [
       "0.5878013793343011"
      ]
     },
     "execution_count": 37,
     "metadata": {},
     "output_type": "execute_result"
    }
   ],
   "source": [
    "##log loss of train on knn\n",
    "log_loss(K,Prn_Y ,eps=1e-15, normalize=True, sample_weight=None, labels=None)"
   ]
  },
  {
   "cell_type": "code",
   "execution_count": 38,
   "metadata": {
    "collapsed": false
   },
   "outputs": [
    {
     "name": "stderr",
     "output_type": "stream",
     "text": [
      "/usr/lib/python3/dist-packages/scipy/sparse/coo.py:182: VisibleDeprecationWarning: `rank` is deprecated; use the `ndim` attribute or function instead. To find the rank of a matrix see `numpy.linalg.matrix_rank`.\n",
      "  if np.rank(M) != 2:\n",
      "/usr/lib/python3/dist-packages/scipy/sparse/coo.py:200: VisibleDeprecationWarning: `rank` is deprecated; use the `ndim` attribute or function instead. To find the rank of a matrix see `numpy.linalg.matrix_rank`.\n",
      "  if np.rank(self.data) != 1 or np.rank(self.row) != 1 or np.rank(self.col) != 1:\n",
      "/usr/lib/python3/dist-packages/scipy/sparse/compressed.py:130: VisibleDeprecationWarning: `rank` is deprecated; use the `ndim` attribute or function instead. To find the rank of a matrix see `numpy.linalg.matrix_rank`.\n",
      "  if np.rank(self.data) != 1 or np.rank(self.indices) != 1 or np.rank(self.indptr) != 1:\n"
     ]
    },
    {
     "data": {
      "text/plain": [
       "2.5558525593293444"
      ]
     },
     "execution_count": 38,
     "metadata": {},
     "output_type": "execute_result"
    }
   ],
   "source": [
    "#log loss of test\n",
    "log_loss(K1,Prn_Yt ,eps=1e-15, normalize=True, sample_weight=None, labels=None)"
   ]
  },
  {
   "cell_type": "markdown",
   "metadata": {},
   "source": [
    "# Random Forest (Non Normalized data)"
   ]
  },
  {
   "cell_type": "markdown",
   "metadata": {},
   "source": [
    "The best score is found when n_estimators=120 but the logloss value is greater than 1.We therefore normalized the data."
   ]
  },
  {
   "cell_type": "code",
   "execution_count": 39,
   "metadata": {
    "collapsed": false
   },
   "outputs": [],
   "source": [
    "Rf = en.RandomForestClassifier(n_estimators= 120, criterion='gini', max_depth=None,\n",
    "                          min_samples_split=2, min_samples_leaf=1, min_weight_fraction_leaf=0.0, \n",
    "                          max_features='auto', max_leaf_nodes=None, min_impurity_split=1e-07,\n",
    "                          bootstrap=True, oob_score=False, n_jobs=1, random_state=None, verbose=0, \n",
    "                          warm_start=False, class_weight=None)"
   ]
  },
  {
   "cell_type": "code",
   "execution_count": 40,
   "metadata": {
    "collapsed": false
   },
   "outputs": [
    {
     "data": {
      "text/plain": [
       "RandomForestClassifier(bootstrap=True, class_weight=None, criterion='gini',\n",
       "            max_depth=None, max_features='auto', max_leaf_nodes=None,\n",
       "            min_impurity_split=1e-07, min_samples_leaf=1,\n",
       "            min_samples_split=2, min_weight_fraction_leaf=0.0,\n",
       "            n_estimators=120, n_jobs=1, oob_score=False, random_state=None,\n",
       "            verbose=0, warm_start=False)"
      ]
     },
     "execution_count": 40,
     "metadata": {},
     "output_type": "execute_result"
    }
   ],
   "source": [
    "Rf.fit(train_X,train_Y)"
   ]
  },
  {
   "cell_type": "code",
   "execution_count": 41,
   "metadata": {
    "collapsed": false
   },
   "outputs": [
    {
     "data": {
      "text/plain": [
       "1.0"
      ]
     },
     "execution_count": 41,
     "metadata": {},
     "output_type": "execute_result"
    }
   ],
   "source": [
    "Rf.score(train_X,train_Y)"
   ]
  },
  {
   "cell_type": "code",
   "execution_count": 42,
   "metadata": {
    "collapsed": false
   },
   "outputs": [
    {
     "data": {
      "text/plain": [
       "0.93686868686868685"
      ]
     },
     "execution_count": 42,
     "metadata": {},
     "output_type": "execute_result"
    }
   ],
   "source": [
    "Rf.score(test_X,test_Y)"
   ]
  },
  {
   "cell_type": "code",
   "execution_count": 43,
   "metadata": {
    "collapsed": false
   },
   "outputs": [],
   "source": [
    "Pro_Y = Rf.predict_proba(train_X)\n",
    "Pro_Yt = Rf.predict_proba(test_X)"
   ]
  },
  {
   "cell_type": "markdown",
   "metadata": {},
   "source": [
    "## Logloss value."
   ]
  },
  {
   "cell_type": "code",
   "execution_count": 44,
   "metadata": {
    "collapsed": false
   },
   "outputs": [
    {
     "name": "stderr",
     "output_type": "stream",
     "text": [
      "/usr/lib/python3/dist-packages/scipy/sparse/coo.py:182: VisibleDeprecationWarning: `rank` is deprecated; use the `ndim` attribute or function instead. To find the rank of a matrix see `numpy.linalg.matrix_rank`.\n",
      "  if np.rank(M) != 2:\n",
      "/usr/lib/python3/dist-packages/scipy/sparse/coo.py:200: VisibleDeprecationWarning: `rank` is deprecated; use the `ndim` attribute or function instead. To find the rank of a matrix see `numpy.linalg.matrix_rank`.\n",
      "  if np.rank(self.data) != 1 or np.rank(self.row) != 1 or np.rank(self.col) != 1:\n",
      "/usr/lib/python3/dist-packages/scipy/sparse/compressed.py:130: VisibleDeprecationWarning: `rank` is deprecated; use the `ndim` attribute or function instead. To find the rank of a matrix see `numpy.linalg.matrix_rank`.\n",
      "  if np.rank(self.data) != 1 or np.rank(self.indices) != 1 or np.rank(self.indptr) != 1:\n"
     ]
    },
    {
     "data": {
      "text/plain": [
       "0.25849691062348223"
      ]
     },
     "execution_count": 44,
     "metadata": {},
     "output_type": "execute_result"
    }
   ],
   "source": [
    "#log loss of train in random forest\n",
    "log_loss(K,Pro_Y ,eps=1e-15, normalize=True, sample_weight=None, labels=None)"
   ]
  },
  {
   "cell_type": "code",
   "execution_count": 45,
   "metadata": {
    "collapsed": false
   },
   "outputs": [
    {
     "name": "stderr",
     "output_type": "stream",
     "text": [
      "/usr/lib/python3/dist-packages/scipy/sparse/coo.py:182: VisibleDeprecationWarning: `rank` is deprecated; use the `ndim` attribute or function instead. To find the rank of a matrix see `numpy.linalg.matrix_rank`.\n",
      "  if np.rank(M) != 2:\n",
      "/usr/lib/python3/dist-packages/scipy/sparse/coo.py:200: VisibleDeprecationWarning: `rank` is deprecated; use the `ndim` attribute or function instead. To find the rank of a matrix see `numpy.linalg.matrix_rank`.\n",
      "  if np.rank(self.data) != 1 or np.rank(self.row) != 1 or np.rank(self.col) != 1:\n",
      "/usr/lib/python3/dist-packages/scipy/sparse/compressed.py:130: VisibleDeprecationWarning: `rank` is deprecated; use the `ndim` attribute or function instead. To find the rank of a matrix see `numpy.linalg.matrix_rank`.\n",
      "  if np.rank(self.data) != 1 or np.rank(self.indices) != 1 or np.rank(self.indptr) != 1:\n"
     ]
    },
    {
     "data": {
      "text/plain": [
       "1.0715188404352942"
      ]
     },
     "execution_count": 45,
     "metadata": {},
     "output_type": "execute_result"
    }
   ],
   "source": [
    "#log loss of test in random forest\n",
    "log_loss(K1,Pro_Yt ,eps=1e-15, normalize=True, sample_weight=None, labels=None)"
   ]
  },
  {
   "cell_type": "markdown",
   "metadata": {},
   "source": [
    "#  - Normalized Data -"
   ]
  },
  {
   "cell_type": "code",
   "execution_count": 46,
   "metadata": {
    "collapsed": false
   },
   "outputs": [],
   "source": [
    "train_norm = skl.preprocessing.scale(t1) #t1 and t2 are our data frames where we dropped columns not needed for model fitting\n",
    "test_norm = skl.preprocessing.scale(t2)"
   ]
  },
  {
   "cell_type": "code",
   "execution_count": 47,
   "metadata": {
    "collapsed": false
   },
   "outputs": [],
   "source": [
    "train_X1 = train_norm\n",
    "#Pro_Yt = Rf.predict_proba(test_X)\n",
    "train_Y1 = np.array(train_raw.class_species)\n",
    "test_X1 = test_norm"
   ]
  },
  {
   "cell_type": "markdown",
   "metadata": {},
   "source": [
    "# Multinomial Logistic Regression"
   ]
  },
  {
   "cell_type": "markdown",
   "metadata": {},
   "source": [
    "Varying the values of Cs in the range (1e-4 and 1e4),the best model is found when Cs is 1e1 and cv=5.The model score  improves with standardization.The logloss value also decreases."
   ]
  },
  {
   "cell_type": "code",
   "execution_count": 48,
   "metadata": {
    "collapsed": false
   },
   "outputs": [],
   "source": [
    "lr = lm.LogisticRegressionCV(Cs=[1e1], fit_intercept=True, cv=5, dual=False, penalty='l2', \n",
    "                        scoring=None, solver='lbfgs', tol=0.0001, max_iter=100, class_weight=None, \n",
    "                        n_jobs=1, verbose=0, refit=True, intercept_scaling=1.0, multi_class='ovr',\n",
    "                        random_state=None)"
   ]
  },
  {
   "cell_type": "code",
   "execution_count": 49,
   "metadata": {
    "collapsed": false
   },
   "outputs": [
    {
     "name": "stderr",
     "output_type": "stream",
     "text": [
      "/home/juliana/.local/lib/python3.4/site-packages/sklearn/model_selection/_split.py:581: Warning: The least populated class in y has only 2 members, which is too few. The minimum number of groups for any class cannot be less than n_splits=5.\n",
      "  % (min_groups, self.n_splits)), Warning)\n"
     ]
    },
    {
     "data": {
      "text/plain": [
       "LogisticRegressionCV(Cs=[10.0], class_weight=None, cv=5, dual=False,\n",
       "           fit_intercept=True, intercept_scaling=1.0, max_iter=100,\n",
       "           multi_class='ovr', n_jobs=1, penalty='l2', random_state=None,\n",
       "           refit=True, scoring=None, solver='lbfgs', tol=0.0001, verbose=0)"
      ]
     },
     "execution_count": 49,
     "metadata": {},
     "output_type": "execute_result"
    }
   ],
   "source": [
    "lr.fit(train_X1,train_Y1)"
   ]
  },
  {
   "cell_type": "code",
   "execution_count": 50,
   "metadata": {
    "collapsed": false
   },
   "outputs": [
    {
     "data": {
      "text/plain": [
       "1.0"
      ]
     },
     "execution_count": 50,
     "metadata": {},
     "output_type": "execute_result"
    }
   ],
   "source": [
    "lr.score(train_X1, train_Y1)"
   ]
  },
  {
   "cell_type": "code",
   "execution_count": 51,
   "metadata": {
    "collapsed": false
   },
   "outputs": [
    {
     "data": {
      "text/plain": [
       "0.96717171717171713"
      ]
     },
     "execution_count": 51,
     "metadata": {},
     "output_type": "execute_result"
    }
   ],
   "source": [
    "lr.score(test_X1, test_Y)"
   ]
  },
  {
   "cell_type": "code",
   "execution_count": 52,
   "metadata": {
    "collapsed": false
   },
   "outputs": [],
   "source": [
    "Pr1_Y = lr.predict_proba(train_X1)\n",
    "Pr1_Yt = lr.predict_proba(test_X1)"
   ]
  },
  {
   "cell_type": "markdown",
   "metadata": {},
   "source": [
    "## Logloss value."
   ]
  },
  {
   "cell_type": "code",
   "execution_count": 53,
   "metadata": {
    "collapsed": false
   },
   "outputs": [
    {
     "name": "stderr",
     "output_type": "stream",
     "text": [
      "/usr/lib/python3/dist-packages/scipy/sparse/coo.py:182: VisibleDeprecationWarning: `rank` is deprecated; use the `ndim` attribute or function instead. To find the rank of a matrix see `numpy.linalg.matrix_rank`.\n",
      "  if np.rank(M) != 2:\n",
      "/usr/lib/python3/dist-packages/scipy/sparse/coo.py:200: VisibleDeprecationWarning: `rank` is deprecated; use the `ndim` attribute or function instead. To find the rank of a matrix see `numpy.linalg.matrix_rank`.\n",
      "  if np.rank(self.data) != 1 or np.rank(self.row) != 1 or np.rank(self.col) != 1:\n",
      "/usr/lib/python3/dist-packages/scipy/sparse/compressed.py:130: VisibleDeprecationWarning: `rank` is deprecated; use the `ndim` attribute or function instead. To find the rank of a matrix see `numpy.linalg.matrix_rank`.\n",
      "  if np.rank(self.data) != 1 or np.rank(self.indices) != 1 or np.rank(self.indptr) != 1:\n"
     ]
    },
    {
     "data": {
      "text/plain": [
       "0.0083327547554483232"
      ]
     },
     "execution_count": 53,
     "metadata": {},
     "output_type": "execute_result"
    }
   ],
   "source": [
    "#log loss of train normalized data \n",
    "log_loss(K,Pr1_Y ,eps=1e-15, normalize=True, sample_weight=None, labels=None)"
   ]
  },
  {
   "cell_type": "code",
   "execution_count": 54,
   "metadata": {
    "collapsed": false
   },
   "outputs": [
    {
     "name": "stderr",
     "output_type": "stream",
     "text": [
      "/usr/lib/python3/dist-packages/scipy/sparse/coo.py:182: VisibleDeprecationWarning: `rank` is deprecated; use the `ndim` attribute or function instead. To find the rank of a matrix see `numpy.linalg.matrix_rank`.\n",
      "  if np.rank(M) != 2:\n",
      "/usr/lib/python3/dist-packages/scipy/sparse/coo.py:200: VisibleDeprecationWarning: `rank` is deprecated; use the `ndim` attribute or function instead. To find the rank of a matrix see `numpy.linalg.matrix_rank`.\n",
      "  if np.rank(self.data) != 1 or np.rank(self.row) != 1 or np.rank(self.col) != 1:\n",
      "/usr/lib/python3/dist-packages/scipy/sparse/compressed.py:130: VisibleDeprecationWarning: `rank` is deprecated; use the `ndim` attribute or function instead. To find the rank of a matrix see `numpy.linalg.matrix_rank`.\n",
      "  if np.rank(self.data) != 1 or np.rank(self.indices) != 1 or np.rank(self.indptr) != 1:\n"
     ]
    },
    {
     "data": {
      "text/plain": [
       "0.15444530907544521"
      ]
     },
     "execution_count": 54,
     "metadata": {},
     "output_type": "execute_result"
    }
   ],
   "source": [
    "#log loss of test normalized data\n",
    "log_loss(K1,Pr1_Yt ,eps=1e-15, normalize=True, sample_weight=None, labels=None)"
   ]
  },
  {
   "cell_type": "markdown",
   "metadata": {},
   "source": [
    "#  K NearestNeighbours"
   ]
  },
  {
   "cell_type": "markdown",
   "metadata": {},
   "source": [
    "Normalizing the data and fitting model when n_neighbors=7,improves the scores and decreases the logloss value."
   ]
  },
  {
   "cell_type": "code",
   "execution_count": 55,
   "metadata": {
    "collapsed": false
   },
   "outputs": [
    {
     "data": {
      "text/plain": [
       "KNeighborsClassifier(algorithm='auto', leaf_size=30, metric='minkowski',\n",
       "           metric_params=None, n_jobs=1, n_neighbors=7, p=2,\n",
       "           weights='uniform')"
      ]
     },
     "execution_count": 55,
     "metadata": {},
     "output_type": "execute_result"
    }
   ],
   "source": [
    "Nn.fit(train_X1,train_Y1)"
   ]
  },
  {
   "cell_type": "code",
   "execution_count": 56,
   "metadata": {
    "collapsed": false
   },
   "outputs": [
    {
     "data": {
      "text/plain": [
       "0.92929292929292928"
      ]
     },
     "execution_count": 56,
     "metadata": {},
     "output_type": "execute_result"
    }
   ],
   "source": [
    "Nn.score(train_X1,train_Y1)"
   ]
  },
  {
   "cell_type": "code",
   "execution_count": 57,
   "metadata": {
    "collapsed": false
   },
   "outputs": [
    {
     "data": {
      "text/plain": [
       "0.84090909090909094"
      ]
     },
     "execution_count": 57,
     "metadata": {},
     "output_type": "execute_result"
    }
   ],
   "source": [
    "Nn.score(test_X1,test_Y)"
   ]
  },
  {
   "cell_type": "code",
   "execution_count": 58,
   "metadata": {
    "collapsed": true
   },
   "outputs": [],
   "source": [
    "Prn1_Y = Nn.predict_proba(train_X1)\n",
    "Prn1_Yt =Nn.predict_proba(test_X1)"
   ]
  },
  {
   "cell_type": "markdown",
   "metadata": {},
   "source": [
    "## Logloss value."
   ]
  },
  {
   "cell_type": "code",
   "execution_count": 59,
   "metadata": {
    "collapsed": false
   },
   "outputs": [
    {
     "name": "stderr",
     "output_type": "stream",
     "text": [
      "/usr/lib/python3/dist-packages/scipy/sparse/coo.py:182: VisibleDeprecationWarning: `rank` is deprecated; use the `ndim` attribute or function instead. To find the rank of a matrix see `numpy.linalg.matrix_rank`.\n",
      "  if np.rank(M) != 2:\n",
      "/usr/lib/python3/dist-packages/scipy/sparse/coo.py:200: VisibleDeprecationWarning: `rank` is deprecated; use the `ndim` attribute or function instead. To find the rank of a matrix see `numpy.linalg.matrix_rank`.\n",
      "  if np.rank(self.data) != 1 or np.rank(self.row) != 1 or np.rank(self.col) != 1:\n",
      "/usr/lib/python3/dist-packages/scipy/sparse/compressed.py:130: VisibleDeprecationWarning: `rank` is deprecated; use the `ndim` attribute or function instead. To find the rank of a matrix see `numpy.linalg.matrix_rank`.\n",
      "  if np.rank(self.data) != 1 or np.rank(self.indices) != 1 or np.rank(self.indptr) != 1:\n"
     ]
    },
    {
     "data": {
      "text/plain": [
       "0.32522168275726843"
      ]
     },
     "execution_count": 59,
     "metadata": {},
     "output_type": "execute_result"
    }
   ],
   "source": [
    "#log loss of train normalized data\n",
    "log_loss(K,Prn1_Y ,eps=1e-10, normalize=True, sample_weight=None, labels=None)"
   ]
  },
  {
   "cell_type": "code",
   "execution_count": 60,
   "metadata": {
    "collapsed": false
   },
   "outputs": [
    {
     "name": "stderr",
     "output_type": "stream",
     "text": [
      "/usr/lib/python3/dist-packages/scipy/sparse/coo.py:182: VisibleDeprecationWarning: `rank` is deprecated; use the `ndim` attribute or function instead. To find the rank of a matrix see `numpy.linalg.matrix_rank`.\n",
      "  if np.rank(M) != 2:\n",
      "/usr/lib/python3/dist-packages/scipy/sparse/coo.py:200: VisibleDeprecationWarning: `rank` is deprecated; use the `ndim` attribute or function instead. To find the rank of a matrix see `numpy.linalg.matrix_rank`.\n",
      "  if np.rank(self.data) != 1 or np.rank(self.row) != 1 or np.rank(self.col) != 1:\n",
      "/usr/lib/python3/dist-packages/scipy/sparse/compressed.py:130: VisibleDeprecationWarning: `rank` is deprecated; use the `ndim` attribute or function instead. To find the rank of a matrix see `numpy.linalg.matrix_rank`.\n",
      "  if np.rank(self.data) != 1 or np.rank(self.indices) != 1 or np.rank(self.indptr) != 1:\n"
     ]
    },
    {
     "data": {
      "text/plain": [
       "0.72054540366619058"
      ]
     },
     "execution_count": 60,
     "metadata": {},
     "output_type": "execute_result"
    }
   ],
   "source": [
    "#log loss of test normalized data\n",
    "log_loss(K1,Prn1_Yt ,eps=1e-10, normalize=True, sample_weight=None, labels=None)"
   ]
  },
  {
   "cell_type": "markdown",
   "metadata": {
    "collapsed": false
   },
   "source": [
    "# Random Forest"
   ]
  },
  {
   "cell_type": "markdown",
   "metadata": {},
   "source": [
    "Normalizing the data and using this classifier does not really improve the model and the logloss values."
   ]
  },
  {
   "cell_type": "code",
   "execution_count": 61,
   "metadata": {
    "collapsed": false
   },
   "outputs": [
    {
     "data": {
      "text/plain": [
       "RandomForestClassifier(bootstrap=True, class_weight=None, criterion='gini',\n",
       "            max_depth=None, max_features='auto', max_leaf_nodes=None,\n",
       "            min_impurity_split=1e-07, min_samples_leaf=1,\n",
       "            min_samples_split=2, min_weight_fraction_leaf=0.0,\n",
       "            n_estimators=120, n_jobs=1, oob_score=False, random_state=None,\n",
       "            verbose=0, warm_start=False)"
      ]
     },
     "execution_count": 61,
     "metadata": {},
     "output_type": "execute_result"
    }
   ],
   "source": [
    "Rf.fit(train_X1,train_Y1)"
   ]
  },
  {
   "cell_type": "code",
   "execution_count": 62,
   "metadata": {
    "collapsed": false
   },
   "outputs": [
    {
     "data": {
      "text/plain": [
       "1.0"
      ]
     },
     "execution_count": 62,
     "metadata": {},
     "output_type": "execute_result"
    }
   ],
   "source": [
    "Rf.score(train_X1,train_Y1)"
   ]
  },
  {
   "cell_type": "code",
   "execution_count": 63,
   "metadata": {
    "collapsed": false
   },
   "outputs": [
    {
     "data": {
      "text/plain": [
       "0.90404040404040409"
      ]
     },
     "execution_count": 63,
     "metadata": {},
     "output_type": "execute_result"
    }
   ],
   "source": [
    "Rf.score(test_X1,test_Y)"
   ]
  },
  {
   "cell_type": "code",
   "execution_count": 64,
   "metadata": {
    "collapsed": false
   },
   "outputs": [],
   "source": [
    "test_pred = Rf.predict(test_X1)"
   ]
  },
  {
   "cell_type": "code",
   "execution_count": 65,
   "metadata": {
    "collapsed": false
   },
   "outputs": [],
   "source": [
    "Pro1_Y = Rf.predict_proba(train_X1)\n",
    "Pro1_Yt = Rf.predict_proba(test_X1)"
   ]
  },
  {
   "cell_type": "markdown",
   "metadata": {},
   "source": [
    "## Logloss value."
   ]
  },
  {
   "cell_type": "code",
   "execution_count": 66,
   "metadata": {
    "collapsed": false
   },
   "outputs": [
    {
     "name": "stderr",
     "output_type": "stream",
     "text": [
      "/usr/lib/python3/dist-packages/scipy/sparse/coo.py:182: VisibleDeprecationWarning: `rank` is deprecated; use the `ndim` attribute or function instead. To find the rank of a matrix see `numpy.linalg.matrix_rank`.\n",
      "  if np.rank(M) != 2:\n",
      "/usr/lib/python3/dist-packages/scipy/sparse/coo.py:200: VisibleDeprecationWarning: `rank` is deprecated; use the `ndim` attribute or function instead. To find the rank of a matrix see `numpy.linalg.matrix_rank`.\n",
      "  if np.rank(self.data) != 1 or np.rank(self.row) != 1 or np.rank(self.col) != 1:\n",
      "/usr/lib/python3/dist-packages/scipy/sparse/compressed.py:130: VisibleDeprecationWarning: `rank` is deprecated; use the `ndim` attribute or function instead. To find the rank of a matrix see `numpy.linalg.matrix_rank`.\n",
      "  if np.rank(self.data) != 1 or np.rank(self.indices) != 1 or np.rank(self.indptr) != 1:\n"
     ]
    },
    {
     "data": {
      "text/plain": [
       "0.25621457838401568"
      ]
     },
     "execution_count": 66,
     "metadata": {},
     "output_type": "execute_result"
    }
   ],
   "source": [
    "#log loss of train normalized data\n",
    "log_loss(K,Pro1_Y ,eps=1e-10, normalize=True, sample_weight=None, labels=None)"
   ]
  },
  {
   "cell_type": "code",
   "execution_count": 67,
   "metadata": {
    "collapsed": false
   },
   "outputs": [
    {
     "name": "stderr",
     "output_type": "stream",
     "text": [
      "/usr/lib/python3/dist-packages/scipy/sparse/coo.py:182: VisibleDeprecationWarning: `rank` is deprecated; use the `ndim` attribute or function instead. To find the rank of a matrix see `numpy.linalg.matrix_rank`.\n",
      "  if np.rank(M) != 2:\n",
      "/usr/lib/python3/dist-packages/scipy/sparse/coo.py:200: VisibleDeprecationWarning: `rank` is deprecated; use the `ndim` attribute or function instead. To find the rank of a matrix see `numpy.linalg.matrix_rank`.\n",
      "  if np.rank(self.data) != 1 or np.rank(self.row) != 1 or np.rank(self.col) != 1:\n",
      "/usr/lib/python3/dist-packages/scipy/sparse/compressed.py:130: VisibleDeprecationWarning: `rank` is deprecated; use the `ndim` attribute or function instead. To find the rank of a matrix see `numpy.linalg.matrix_rank`.\n",
      "  if np.rank(self.data) != 1 or np.rank(self.indices) != 1 or np.rank(self.indptr) != 1:\n"
     ]
    },
    {
     "data": {
      "text/plain": [
       "1.1106418156036588"
      ]
     },
     "execution_count": 67,
     "metadata": {},
     "output_type": "execute_result"
    }
   ],
   "source": [
    "#log loss of test normalized data\n",
    "log_loss(K1,Pro1_Yt ,eps=1e-10, normalize=True, sample_weight=None, labels=None)"
   ]
  },
  {
   "cell_type": "markdown",
   "metadata": {},
   "source": [
    "# Checking the Accuracy, Recall and Precision"
   ]
  },
  {
   "cell_type": "code",
   "execution_count": 68,
   "metadata": {
    "collapsed": false
   },
   "outputs": [],
   "source": [
    "import sklearn.metrics as m"
   ]
  },
  {
   "cell_type": "markdown",
   "metadata": {},
   "source": [
    "# Logistic"
   ]
  },
  {
   "cell_type": "code",
   "execution_count": 69,
   "metadata": {
    "collapsed": false
   },
   "outputs": [],
   "source": [
    "test_predicted = lr.predict(test_X1)"
   ]
  },
  {
   "cell_type": "code",
   "execution_count": 70,
   "metadata": {
    "collapsed": false
   },
   "outputs": [
    {
     "name": "stdout",
     "output_type": "stream",
     "text": [
      "accuracy: 0.967171717172\n",
      "precision: 0.979882154882\n",
      "recall: 0.967171717172\n"
     ]
    }
   ],
   "source": [
    "def score_test_set(test_pred, test_Y):\n",
    "    print(\"accuracy:\", m.accuracy_score(test_Y, test_pred))\n",
    "    print(\"precision:\", m.precision_score(test_Y, test_pred, average = 'weighted'))\n",
    "    print(\"recall:\", m.recall_score(test_Y, test_pred, average = 'weighted'))\n",
    "score_test_set(test_predicted, test_Y)    "
   ]
  },
  {
   "cell_type": "markdown",
   "metadata": {
    "collapsed": false
   },
   "source": [
    "# KNearest Neighbors"
   ]
  },
  {
   "cell_type": "code",
   "execution_count": 71,
   "metadata": {
    "collapsed": false
   },
   "outputs": [],
   "source": [
    "test_predicted1 = Nn.predict(test_X1)"
   ]
  },
  {
   "cell_type": "code",
   "execution_count": 72,
   "metadata": {
    "collapsed": false
   },
   "outputs": [
    {
     "name": "stdout",
     "output_type": "stream",
     "text": [
      "accuracy: 0.840909090909\n",
      "precision: 0.880808080808\n",
      "recall: 0.840909090909\n"
     ]
    },
    {
     "name": "stderr",
     "output_type": "stream",
     "text": [
      "/home/juliana/.local/lib/python3.4/site-packages/sklearn/metrics/classification.py:1113: UndefinedMetricWarning: Precision is ill-defined and being set to 0.0 in labels with no predicted samples.\n",
      "  'precision', 'predicted', average, warn_for)\n"
     ]
    }
   ],
   "source": [
    "score_test_set(test_predicted1, test_Y) "
   ]
  },
  {
   "cell_type": "markdown",
   "metadata": {},
   "source": [
    "# Random forest"
   ]
  },
  {
   "cell_type": "code",
   "execution_count": 73,
   "metadata": {
    "collapsed": true
   },
   "outputs": [],
   "source": [
    "test_predicted2 = Rf.predict(test_X1)"
   ]
  },
  {
   "cell_type": "code",
   "execution_count": 74,
   "metadata": {
    "collapsed": false
   },
   "outputs": [
    {
     "name": "stdout",
     "output_type": "stream",
     "text": [
      "accuracy: 0.90404040404\n",
      "precision: 0.938251563252\n",
      "recall: 0.90404040404\n"
     ]
    }
   ],
   "source": [
    "score_test_set(test_predicted2, test_Y) "
   ]
  },
  {
   "cell_type": "markdown",
   "metadata": {},
   "source": [
    "Accuracy:We are 96.7%,84% and 91.4% accurate respectively that the set of predicted labels for the sample matches the corresponding set of labels in Y_true.\n",
    "\n",
    "Precision:We have 97.99%,88%,93% precision rate respectively meaning that the we have predicted 97.99%,88%,93% of the data as true positives.\n",
    "\n",
    "Recall: The classifiers are returning low false negative values.96.7%,84.1%,90.4% of the data is therefore positively predicted."
   ]
  },
  {
   "cell_type": "markdown",
   "metadata": {},
   "source": [
    "# Kaggle submission"
   ]
  },
  {
   "cell_type": "code",
   "execution_count": 95,
   "metadata": {
    "collapsed": false
   },
   "outputs": [],
   "source": [
    "test2 = pd.read_csv(\"test.csv\") #Reading the test data from kaggle"
   ]
  },
  {
   "cell_type": "code",
   "execution_count": 76,
   "metadata": {
    "collapsed": false
   },
   "outputs": [],
   "source": [
    "t3 = test2.drop('id',axis=1)"
   ]
  },
  {
   "cell_type": "code",
   "execution_count": 96,
   "metadata": {
    "collapsed": false
   },
   "outputs": [],
   "source": [
    "test_norm1 = skl.preprocessing.scale(t3) #Normalizing the data"
   ]
  },
  {
   "cell_type": "markdown",
   "metadata": {},
   "source": [
    "# For logistic"
   ]
  },
  {
   "cell_type": "code",
   "execution_count": 78,
   "metadata": {
    "collapsed": false
   },
   "outputs": [],
   "source": [
    "sp=lr.predict(test_norm1)"
   ]
  },
  {
   "cell_type": "code",
   "execution_count": 79,
   "metadata": {
    "collapsed": false
   },
   "outputs": [],
   "source": [
    "Probabilities = lr.predict_proba(test_norm1)"
   ]
  },
  {
   "cell_type": "code",
   "execution_count": 92,
   "metadata": {
    "collapsed": false
   },
   "outputs": [
    {
     "data": {
      "text/plain": [
       "array(['Quercus_Agrifolia', 'Quercus_Afares', 'Acer_Circinatum',\n",
       "       'Castanea_Sativa', 'Alnus_Viridis', 'Acer_Opalus', 'Acer_Opalus',\n",
       "       'Eucalyptus_Glaucescens', 'Quercus_Variabilis', 'Acer_Rufinerve',\n",
       "       'Phildelphus', 'Quercus_Pontica', 'Quercus_Pubescens',\n",
       "       'Alnus_Cordata', 'Quercus_Alnifolia', 'Populus_Nigra',\n",
       "       'Populus_Grandidentata', 'Quercus_Phillyraeoides',\n",
       "       'Alnus_Sieboldiana', 'Quercus_Palustris', 'Quercus_Crassipes',\n",
       "       'Quercus_Infectoria_sub', 'Quercus_Chrysolepis',\n",
       "       'Quercus_Rhysophylla', 'Acer_Circinatum', 'Quercus_Nigra',\n",
       "       'Eucalyptus_Glaucescens', 'Arundinaria_Simonii',\n",
       "       'Liquidambar_Styraciflua', 'Quercus_Nigra', 'Quercus_Brantii',\n",
       "       'Quercus_Pontica', 'Prunus_Avium', 'Quercus_Afares',\n",
       "       'Acer_Palmatum', 'Liriodendron_Tulipifera', 'Alnus_Viridis',\n",
       "       'Quercus_Castaneifolia', 'Liriodendron_Tulipifera',\n",
       "       'Tilia_Platyphyllos', 'Acer_Rufinerve', 'Ginkgo_Biloba',\n",
       "       'Acer_Rufinerve', 'Acer_Saccharinum', 'Quercus_Palustris',\n",
       "       'Quercus_Nigra', 'Lithocarpus_Edulis', 'Cornus_Controversa',\n",
       "       'Tilia_Tomentosa', 'Callicarpa_Bodinieri', 'Betula_Pendula',\n",
       "       'Acer_Pictum', 'Quercus_Castaneifolia', 'Tilia_Tomentosa',\n",
       "       'Alnus_Viridis', 'Quercus_x_Hispanica', 'Quercus_Dolicholepis',\n",
       "       'Ilex_Aquifolium', 'Quercus_Agrifolia', 'Zelkova_Serrata',\n",
       "       'Rhododendron_x_Russellianum', 'Quercus_Cerris',\n",
       "       'Cercis_Siliquastrum', 'Quercus_Coccinea', 'Quercus_Hartwissiana',\n",
       "       'Alnus_Maximowiczii', 'Prunus_X_Shmittii', 'Acer_Pictum',\n",
       "       'Alnus_Sieboldiana', 'Acer_Palmatum', 'Quercus_Canariensis',\n",
       "       'Quercus_Chrysolepis', 'Eucalyptus_Neglecta', 'Acer_Rubrum',\n",
       "       'Fagus_Sylvatica', 'Zelkova_Serrata', 'Tilia_Oliveri',\n",
       "       'Quercus_Variabilis', 'Cotinus_Coggygria', 'Alnus_Cordata',\n",
       "       'Quercus_Crassipes', 'Phildelphus', 'Quercus_Vulcanica',\n",
       "       'Cornus_Macrophylla', 'Acer_Circinatum', 'Acer_Mono',\n",
       "       'Viburnum_Tinus', 'Quercus_Trojana', 'Magnolia_Salicifolia',\n",
       "       'Cornus_Chinensis', 'Prunus_X_Shmittii', 'Salix_Intergra',\n",
       "       'Cotinus_Coggygria', 'Cercis_Siliquastrum',\n",
       "       'Lithocarpus_Cleistocarpus', 'Quercus_Cerris', 'Morus_Nigra',\n",
       "       'Ulmus_Bergmanniana', 'Acer_Rubrum', 'Salix_Fragilis',\n",
       "       'Zelkova_Serrata', 'Quercus_Rhysophylla', 'Acer_Opalus',\n",
       "       'Alnus_Rubra', 'Fagus_Sylvatica', 'Quercus_Variabilis',\n",
       "       'Quercus_Brantii', 'Viburnum_Tinus', 'Quercus_Greggii',\n",
       "       'Quercus_Phellos', 'Tilia_Platyphyllos', 'Tilia_Platyphyllos',\n",
       "       'Quercus_Imbricaria', 'Eucalyptus_Urnigera', 'Acer_Rufinerve',\n",
       "       'Rhododendron_x_Russellianum', 'Acer_Opalus', 'Quercus_x_Turneri',\n",
       "       'Acer_Platanoids', 'Quercus_Chrysolepis', 'Ilex_Cornuta',\n",
       "       'Salix_Intergra', 'Quercus_Crassifolia', 'Betula_Pendula',\n",
       "       'Quercus_Pubescens', 'Cytisus_Battandieri', 'Quercus_Agrifolia',\n",
       "       'Acer_Rubrum', 'Magnolia_Heptapeta', 'Cornus_Controversa',\n",
       "       'Cornus_Macrophylla', 'Acer_Mono', 'Morus_Nigra',\n",
       "       'Quercus_Crassipes', 'Cornus_Macrophylla',\n",
       "       'Viburnum_x_Rhytidophylloides', 'Eucalyptus_Neglecta',\n",
       "       'Eucalyptus_Glaucescens', 'Quercus_Infectoria_sub', 'Quercus_Suber',\n",
       "       'Olea_Europaea', 'Quercus_Agrifolia', 'Quercus_x_Hispanica',\n",
       "       'Quercus_Dolicholepis', 'Quercus_Crassifolia', 'Quercus_Alnifolia',\n",
       "       'Ulmus_Bergmanniana', 'Quercus_Greggii', 'Olea_Europaea',\n",
       "       'Viburnum_Tinus', 'Ulmus_Bergmanniana', 'Celtis_Koraiensis',\n",
       "       'Quercus_Coccinea', 'Liquidambar_Styraciflua',\n",
       "       'Quercus_x_Hispanica', 'Acer_Circinatum', 'Crataegus_Monogyna',\n",
       "       'Lithocarpus_Edulis', 'Phildelphus', 'Quercus_Pubescens',\n",
       "       'Celtis_Koraiensis', 'Quercus_Dolicholepis', 'Populus_Nigra',\n",
       "       'Quercus_Semecarpifolia', 'Cornus_Chinensis',\n",
       "       'Quercus_Semecarpifolia', 'Quercus_Kewensis', 'Quercus_x_Turneri',\n",
       "       'Quercus_Hartwissiana', 'Viburnum_x_Rhytidophylloides',\n",
       "       'Quercus_Pubescens', 'Cercis_Siliquastrum', 'Eucalyptus_Neglecta',\n",
       "       'Cercis_Siliquastrum', 'Alnus_Maximowiczii', 'Alnus_Cordata',\n",
       "       'Quercus_Coccifera', 'Tilia_Tomentosa', 'Cytisus_Battandieri',\n",
       "       'Cornus_Chinensis', 'Arundinaria_Simonii', 'Populus_Grandidentata',\n",
       "       'Salix_Fragilis', 'Quercus_Canariensis', 'Phildelphus',\n",
       "       'Acer_Pictum', 'Cornus_Controversa', 'Tilia_Tomentosa',\n",
       "       'Magnolia_Salicifolia', 'Pterocarya_Stenoptera', 'Salix_Fragilis',\n",
       "       'Quercus_Phellos', 'Liriodendron_Tulipifera', 'Tilia_Platyphyllos',\n",
       "       'Quercus_Suber', 'Ulmus_Bergmanniana', 'Callicarpa_Bodinieri',\n",
       "       'Sorbus_Aria', 'Eucalyptus_Neglecta', 'Quercus_Greggii',\n",
       "       'Quercus_Shumardii', 'Acer_Platanoids', 'Quercus_Rubra',\n",
       "       'Populus_Grandidentata', 'Eucalyptus_Glaucescens',\n",
       "       'Acer_Saccharinum', 'Quercus_Rubra', 'Salix_Intergra',\n",
       "       'Populus_Adenopoda', 'Salix_Fragilis', 'Tilia_Oliveri',\n",
       "       'Alnus_Sieboldiana', 'Acer_Mono', 'Quercus_Coccinea',\n",
       "       'Acer_Capillipes', 'Viburnum_Tinus', 'Quercus_Nigra',\n",
       "       'Ginkgo_Biloba', 'Eucalyptus_Neglecta', 'Quercus_Rubra',\n",
       "       'Sorbus_Aria', 'Quercus_Castaneifolia', 'Populus_Adenopoda',\n",
       "       'Lithocarpus_Edulis', 'Acer_Pictum', 'Quercus_Dolicholepis',\n",
       "       'Pterocarya_Stenoptera', 'Quercus_Coccifera', 'Tilia_Tomentosa',\n",
       "       'Quercus_Imbricaria', 'Tilia_Oliveri',\n",
       "       'Rhododendron_x_Russellianum', 'Salix_Intergra',\n",
       "       'Quercus_Semecarpifolia', 'Cotinus_Coggygria',\n",
       "       'Lithocarpus_Cleistocarpus', 'Callicarpa_Bodinieri',\n",
       "       'Acer_Capillipes', 'Quercus_Pyrenaica', 'Cytisus_Battandieri',\n",
       "       'Quercus_Nigra', 'Quercus_Palustris', 'Populus_Adenopoda',\n",
       "       'Quercus_Nigra', 'Ginkgo_Biloba', 'Salix_Intergra',\n",
       "       'Eucalyptus_Urnigera', 'Quercus_Texana', 'Ilex_Cornuta',\n",
       "       'Eucalyptus_Urnigera', 'Quercus_Texana', 'Viburnum_Tinus',\n",
       "       'Prunus_X_Shmittii', 'Quercus_Hartwissiana', 'Quercus_Chrysolepis',\n",
       "       'Quercus_Greggii', 'Crataegus_Monogyna', 'Quercus_Brantii',\n",
       "       'Quercus_Castaneifolia', 'Quercus_Phillyraeoides',\n",
       "       'Acer_Saccharinum', 'Acer_Opalus', 'Quercus_Trojana',\n",
       "       'Crataegus_Monogyna', 'Eucalyptus_Urnigera',\n",
       "       'Quercus_Ellipsoidalis', 'Betula_Pendula', 'Cornus_Chinensis',\n",
       "       'Quercus_Semecarpifolia', 'Quercus_Ellipsoidalis', 'Alnus_Rubra',\n",
       "       'Quercus_Rubra', 'Liriodendron_Tulipifera', 'Alnus_Viridis',\n",
       "       'Cytisus_Battandieri', 'Cotinus_Coggygria', 'Quercus_Imbricaria',\n",
       "       'Lithocarpus_Edulis', 'Celtis_Koraiensis', 'Quercus_Canariensis',\n",
       "       'Quercus_Pyrenaica', 'Quercus_Kewensis', 'Quercus_Imbricaria',\n",
       "       'Viburnum_x_Rhytidophylloides', 'Quercus_Shumardii',\n",
       "       'Populus_Adenopoda', 'Tilia_Oliveri', 'Quercus_Kewensis',\n",
       "       'Cornus_Controversa', 'Cercis_Siliquastrum',\n",
       "       'Betula_Austrosinensis', 'Quercus_Agrifolia', 'Ilex_Aquifolium',\n",
       "       'Quercus_Rhysophylla', 'Betula_Austrosinensis',\n",
       "       'Alnus_Maximowiczii', 'Viburnum_x_Rhytidophylloides',\n",
       "       'Acer_Circinatum', 'Quercus_Alnifolia', 'Magnolia_Heptapeta',\n",
       "       'Cornus_Macrophylla', 'Quercus_Alnifolia', 'Olea_Europaea',\n",
       "       'Quercus_Alnifolia', 'Acer_Mono', 'Quercus_Phillyraeoides',\n",
       "       'Viburnum_Tinus', 'Quercus_Trojana', 'Rhododendron_x_Russellianum',\n",
       "       'Acer_Saccharinum', 'Quercus_Ellipsoidalis', 'Quercus_Afares',\n",
       "       'Betula_Austrosinensis', 'Lithocarpus_Edulis', 'Quercus_x_Turneri',\n",
       "       'Ulmus_Bergmanniana', 'Acer_Opalus', 'Liquidambar_Styraciflua',\n",
       "       'Quercus_Trojana', 'Quercus_Crassifolia', 'Quercus_Coccinea',\n",
       "       'Quercus_Coccifera', 'Acer_Capillipes', 'Quercus_Afares',\n",
       "       'Quercus_Dolicholepis', 'Lithocarpus_Edulis', 'Tilia_Platyphyllos',\n",
       "       'Quercus_Infectoria_sub', 'Quercus_Castaneifolia', 'Populus_Nigra',\n",
       "       'Castanea_Sativa', 'Populus_Nigra', 'Tilia_Tomentosa',\n",
       "       'Callicarpa_Bodinieri', 'Acer_Capillipes', 'Ilex_Aquifolium',\n",
       "       'Salix_Fragilis', 'Magnolia_Salicifolia', 'Quercus_Dolicholepis',\n",
       "       'Prunus_X_Shmittii', 'Olea_Europaea', 'Acer_Platanoids',\n",
       "       'Fagus_Sylvatica', 'Sorbus_Aria', 'Quercus_Phillyraeoides',\n",
       "       'Quercus_Suber', 'Alnus_Rubra', 'Quercus_Vulcanica', 'Prunus_Avium',\n",
       "       'Acer_Platanoids', 'Quercus_Semecarpifolia', 'Acer_Mono',\n",
       "       'Cornus_Chinensis', 'Liquidambar_Styraciflua', 'Phildelphus',\n",
       "       'Acer_Platanoids', 'Quercus_Shumardii', 'Quercus_Rubra',\n",
       "       'Quercus_Texana', 'Acer_Pictum', 'Quercus_Crassipes',\n",
       "       'Lithocarpus_Cleistocarpus', 'Phildelphus', 'Ilex_Aquifolium',\n",
       "       'Quercus_Kewensis', 'Quercus_Cerris', 'Quercus_Palustris',\n",
       "       'Populus_Grandidentata', 'Quercus_Coccinea', 'Olea_Europaea',\n",
       "       'Quercus_Ilex', 'Quercus_x_Hispanica', 'Zelkova_Serrata',\n",
       "       'Quercus_Trojana', 'Salix_Intergra', 'Quercus_Greggii',\n",
       "       'Quercus_Texana', 'Alnus_Maximowiczii', 'Quercus_Semecarpifolia',\n",
       "       'Quercus_Cerris', 'Acer_Opalus', 'Pterocarya_Stenoptera',\n",
       "       'Prunus_X_Shmittii', 'Celtis_Koraiensis', 'Quercus_Pontica',\n",
       "       'Arundinaria_Simonii', 'Ilex_Aquifolium', 'Pterocarya_Stenoptera',\n",
       "       'Salix_Fragilis', 'Populus_Adenopoda', 'Acer_Rubrum',\n",
       "       'Liquidambar_Styraciflua', 'Alnus_Viridis', 'Quercus_Castaneifolia',\n",
       "       'Quercus_Nigra', 'Ilex_Cornuta', 'Populus_Adenopoda',\n",
       "       'Ginkgo_Biloba', 'Eucalyptus_Urnigera', 'Liriodendron_Tulipifera',\n",
       "       'Acer_Saccharinum', 'Quercus_Phellos', 'Fagus_Sylvatica',\n",
       "       'Quercus_Crassipes', 'Quercus_Afares', 'Quercus_Texana',\n",
       "       'Ilex_Cornuta', 'Eucalyptus_Glaucescens', 'Cornus_Chinensis',\n",
       "       'Tilia_Oliveri', 'Quercus_Phellos', 'Alnus_Maximowiczii',\n",
       "       'Castanea_Sativa', 'Acer_Palmatum', 'Quercus_x_Turneri',\n",
       "       'Quercus_Agrifolia', 'Quercus_Palustris', 'Magnolia_Heptapeta',\n",
       "       'Quercus_Variabilis', 'Ginkgo_Biloba', 'Quercus_Ilex',\n",
       "       'Liriodendron_Tulipifera', 'Morus_Nigra', 'Fagus_Sylvatica',\n",
       "       'Quercus_Shumardii', 'Acer_Palmatum', 'Crataegus_Monogyna',\n",
       "       'Quercus_Infectoria_sub', 'Viburnum_Tinus', 'Celtis_Koraiensis',\n",
       "       'Magnolia_Salicifolia', 'Ilex_Cornuta', 'Magnolia_Heptapeta',\n",
       "       'Quercus_Cerris', 'Quercus_Phillyraeoides', 'Quercus_Pyrenaica',\n",
       "       'Quercus_Variabilis', 'Acer_Rubrum', 'Quercus_Imbricaria',\n",
       "       'Lithocarpus_Cleistocarpus', 'Acer_Rufinerve', 'Ulmus_Bergmanniana',\n",
       "       'Quercus_Vulcanica', 'Quercus_Dolicholepis', 'Alnus_Cordata',\n",
       "       'Quercus_Hartwissiana', 'Morus_Nigra', 'Acer_Mono',\n",
       "       'Quercus_Alnifolia', 'Quercus_x_Hispanica', 'Morus_Nigra',\n",
       "       'Quercus_Alnifolia', 'Acer_Opalus', 'Pterocarya_Stenoptera',\n",
       "       'Prunus_Avium', 'Quercus_Pyrenaica', 'Quercus_Alnifolia',\n",
       "       'Betula_Austrosinensis', 'Crataegus_Monogyna',\n",
       "       'Rhododendron_x_Russellianum', 'Quercus_Ellipsoidalis',\n",
       "       'Populus_Grandidentata', 'Magnolia_Heptapeta', 'Quercus_Ilex',\n",
       "       'Quercus_x_Turneri', 'Quercus_Pubescens', 'Quercus_Pontica',\n",
       "       'Acer_Rubrum', 'Quercus_Greggii', 'Quercus_Hartwissiana',\n",
       "       'Quercus_Rubra', 'Quercus_Ellipsoidalis', 'Quercus_Cerris',\n",
       "       'Cercis_Siliquastrum', 'Quercus_Crassipes',\n",
       "       'Rhododendron_x_Russellianum', 'Quercus_Dolicholepis',\n",
       "       'Sorbus_Aria', 'Quercus_Coccinea', 'Alnus_Rubra', 'Quercus_Pontica',\n",
       "       'Arundinaria_Simonii', 'Quercus_Vulcanica', 'Acer_Rufinerve',\n",
       "       'Quercus_Ilex', 'Quercus_Chrysolepis', 'Quercus_Trojana',\n",
       "       'Quercus_Texana', 'Quercus_Phellos', 'Quercus_Coccifera',\n",
       "       'Eucalyptus_Glaucescens', 'Acer_Rubrum', 'Quercus_Imbricaria',\n",
       "       'Quercus_Ilex', 'Quercus_Chrysolepis', 'Quercus_Ilex',\n",
       "       'Quercus_Pubescens', 'Liquidambar_Styraciflua',\n",
       "       'Callicarpa_Bodinieri', 'Acer_Saccharinum', 'Quercus_Canariensis',\n",
       "       'Sorbus_Aria', 'Quercus_Hartwissiana', 'Castanea_Sativa',\n",
       "       'Arundinaria_Simonii', 'Alnus_Cordata', 'Cornus_Macrophylla',\n",
       "       'Quercus_Palustris', 'Quercus_Kewensis', 'Prunus_X_Shmittii',\n",
       "       'Magnolia_Heptapeta', 'Zelkova_Serrata', 'Betula_Austrosinensis',\n",
       "       'Castanea_Sativa', 'Populus_Grandidentata', 'Quercus_Pontica',\n",
       "       'Acer_Platanoids', 'Quercus_Suber', 'Olea_Europaea', 'Ilex_Cornuta',\n",
       "       'Quercus_Shumardii', 'Prunus_Avium', 'Quercus_Vulcanica',\n",
       "       'Eucalyptus_Glaucescens', 'Quercus_Vulcanica', 'Prunus_Avium',\n",
       "       'Cotinus_Coggygria', 'Cytisus_Battandieri', 'Quercus_Coccifera',\n",
       "       'Quercus_Infectoria_sub', 'Quercus_Variabilis',\n",
       "       'Viburnum_x_Rhytidophylloides', 'Quercus_Ellipsoidalis',\n",
       "       'Viburnum_x_Rhytidophylloides', 'Quercus_Pyrenaica',\n",
       "       'Quercus_Suber', 'Quercus_x_Turneri', 'Quercus_Rhysophylla',\n",
       "       'Alnus_Sieboldiana', 'Acer_Capillipes', 'Eucalyptus_Glaucescens',\n",
       "       'Morus_Nigra', 'Alnus_Viridis', 'Alnus_Rubra', 'Ilex_Aquifolium',\n",
       "       'Quercus_x_Hispanica', 'Populus_Nigra', 'Acer_Palmatum',\n",
       "       'Acer_Palmatum', 'Prunus_Avium', 'Eucalyptus_Urnigera',\n",
       "       'Castanea_Sativa', 'Quercus_Coccifera', 'Alnus_Sieboldiana',\n",
       "       'Quercus_Rhysophylla', 'Zelkova_Serrata', 'Acer_Pictum',\n",
       "       'Pterocarya_Stenoptera', 'Quercus_Phellos', 'Quercus_Brantii',\n",
       "       'Ginkgo_Biloba', 'Quercus_Rhysophylla', 'Magnolia_Salicifolia',\n",
       "       'Quercus_Infectoria_sub', 'Crataegus_Monogyna', 'Tilia_Oliveri',\n",
       "       'Betula_Austrosinensis', 'Quercus_Suber',\n",
       "       'Lithocarpus_Cleistocarpus', 'Alnus_Viridis', 'Tilia_Platyphyllos',\n",
       "       'Quercus_Shumardii', 'Quercus_Brantii', 'Populus_Nigra',\n",
       "       'Cotinus_Coggygria', 'Quercus_Afares', 'Acer_Rubrum',\n",
       "       'Lithocarpus_Cleistocarpus', 'Tilia_Platyphyllos',\n",
       "       'Acer_Capillipes', 'Celtis_Koraiensis', 'Quercus_Canariensis',\n",
       "       'Alnus_Cordata', 'Sorbus_Aria', 'Magnolia_Salicifolia',\n",
       "       'Quercus_Suber', 'Quercus_Brantii', 'Callicarpa_Bodinieri',\n",
       "       'Cytisus_Battandieri', 'Acer_Circinatum', 'Alnus_Rubra',\n",
       "       'Quercus_Canariensis', 'Quercus_Phillyraeoides',\n",
       "       'Arundinaria_Simonii'], dtype=object)"
      ]
     },
     "execution_count": 92,
     "metadata": {},
     "output_type": "execute_result"
    }
   ],
   "source": [
    "species = le.inverse_transform(sp) #Transforming numerical labels to non-numerical labels\n",
    "species"
   ]
  },
  {
   "cell_type": "code",
   "execution_count": 102,
   "metadata": {
    "collapsed": false
   },
   "outputs": [
    {
     "data": {
      "text/plain": [
       "array(['Acer_Capillipes', 'Acer_Circinatum', 'Acer_Mono', 'Acer_Opalus',\n",
       "       'Acer_Palmatum', 'Acer_Pictum', 'Acer_Platanoids', 'Acer_Rubrum',\n",
       "       'Acer_Rufinerve', 'Acer_Saccharinum', 'Alnus_Cordata',\n",
       "       'Alnus_Maximowiczii', 'Alnus_Rubra', 'Alnus_Sieboldiana',\n",
       "       'Alnus_Viridis', 'Arundinaria_Simonii', 'Betula_Austrosinensis',\n",
       "       'Betula_Pendula', 'Callicarpa_Bodinieri', 'Castanea_Sativa',\n",
       "       'Celtis_Koraiensis', 'Cercis_Siliquastrum', 'Cornus_Chinensis',\n",
       "       'Cornus_Controversa', 'Cornus_Macrophylla', 'Cotinus_Coggygria',\n",
       "       'Crataegus_Monogyna', 'Cytisus_Battandieri',\n",
       "       'Eucalyptus_Glaucescens', 'Eucalyptus_Neglecta',\n",
       "       'Eucalyptus_Urnigera', 'Fagus_Sylvatica', 'Ginkgo_Biloba',\n",
       "       'Ilex_Aquifolium', 'Ilex_Cornuta', 'Liquidambar_Styraciflua',\n",
       "       'Liriodendron_Tulipifera', 'Lithocarpus_Cleistocarpus',\n",
       "       'Lithocarpus_Edulis', 'Magnolia_Heptapeta', 'Magnolia_Salicifolia',\n",
       "       'Morus_Nigra', 'Olea_Europaea', 'Phildelphus', 'Populus_Adenopoda',\n",
       "       'Populus_Grandidentata', 'Populus_Nigra', 'Prunus_Avium',\n",
       "       'Prunus_X_Shmittii', 'Pterocarya_Stenoptera', 'Quercus_Afares',\n",
       "       'Quercus_Agrifolia', 'Quercus_Alnifolia', 'Quercus_Brantii',\n",
       "       'Quercus_Canariensis', 'Quercus_Castaneifolia', 'Quercus_Cerris',\n",
       "       'Quercus_Chrysolepis', 'Quercus_Coccifera', 'Quercus_Coccinea',\n",
       "       'Quercus_Crassifolia', 'Quercus_Crassipes', 'Quercus_Dolicholepis',\n",
       "       'Quercus_Ellipsoidalis', 'Quercus_Greggii', 'Quercus_Hartwissiana',\n",
       "       'Quercus_Ilex', 'Quercus_Imbricaria', 'Quercus_Infectoria_sub',\n",
       "       'Quercus_Kewensis', 'Quercus_Nigra', 'Quercus_Palustris',\n",
       "       'Quercus_Phellos', 'Quercus_Phillyraeoides', 'Quercus_Pontica',\n",
       "       'Quercus_Pubescens', 'Quercus_Pyrenaica', 'Quercus_Rhysophylla',\n",
       "       'Quercus_Rubra', 'Quercus_Semecarpifolia', 'Quercus_Shumardii',\n",
       "       'Quercus_Suber', 'Quercus_Texana', 'Quercus_Trojana',\n",
       "       'Quercus_Variabilis', 'Quercus_Vulcanica', 'Quercus_x_Hispanica',\n",
       "       'Quercus_x_Turneri', 'Rhododendron_x_Russellianum',\n",
       "       'Salix_Fragilis', 'Salix_Intergra', 'Sorbus_Aria', 'Tilia_Oliveri',\n",
       "       'Tilia_Platyphyllos', 'Tilia_Tomentosa', 'Ulmus_Bergmanniana',\n",
       "       'Viburnum_Tinus', 'Viburnum_x_Rhytidophylloides', 'Zelkova_Serrata'], dtype=object)"
      ]
     },
     "execution_count": 102,
     "metadata": {},
     "output_type": "execute_result"
    }
   ],
   "source": [
    "le.fit(species)\n",
    "sp1 = le.classes_  #Transforming the non-numerical labels(species) to the 99 unique classes\n",
    "sp1"
   ]
  },
  {
   "cell_type": "code",
   "execution_count": 94,
   "metadata": {
    "collapsed": false
   },
   "outputs": [],
   "source": [
    "k = test2['id']\n",
    "k = np.array(k)   #converting the column id to numpy array."
   ]
  },
  {
   "cell_type": "code",
   "execution_count": 105,
   "metadata": {
    "collapsed": false
   },
   "outputs": [],
   "source": [
    "p = np.vstack((sp1, Probabilities)) #vertically stacking the."
   ]
  },
  {
   "cell_type": "code",
   "execution_count": 99,
   "metadata": {
    "collapsed": true
   },
   "outputs": [],
   "source": [
    "pp=np.matrix(p) #creating a matrix of the  99 unique species to the probabilities.\n"
   ]
  },
  {
   "cell_type": "code",
   "execution_count": 85,
   "metadata": {
    "collapsed": false
   },
   "outputs": [
    {
     "data": {
      "text/plain": [
       "(594,)"
      ]
     },
     "execution_count": 85,
     "metadata": {},
     "output_type": "execute_result"
    }
   ],
   "source": [
    "species.shape  "
   ]
  },
  {
   "cell_type": "code",
   "execution_count": 117,
   "metadata": {
    "collapsed": false
   },
   "outputs": [],
   "source": [
    "dd=pd.DataFrame(pp) #converting the matrix to a dataframe\n",
    "dd2 = dd.rename(columns=dd.loc[0,:]).loc[1:,:] #removes the row with indexes and retains the row with species names "
   ]
  },
  {
   "cell_type": "code",
   "execution_count": 118,
   "metadata": {
    "collapsed": false
   },
   "outputs": [],
   "source": [
    "dd2.loc[:,'id'] = k #Adds the column id to the dataframe"
   ]
  },
  {
   "cell_type": "code",
   "execution_count": 119,
   "metadata": {
    "collapsed": false
   },
   "outputs": [],
   "source": [
    "columns = dd2.columns.tolist()"
   ]
  },
  {
   "cell_type": "code",
   "execution_count": 120,
   "metadata": {
    "collapsed": false
   },
   "outputs": [],
   "source": [
    "#columns = columns[-1:] + columns[:-1]"
   ]
  },
  {
   "cell_type": "code",
   "execution_count": 121,
   "metadata": {
    "collapsed": false
   },
   "outputs": [],
   "source": [
    "dd2 =dd2[columns]\n"
   ]
  },
  {
   "cell_type": "code",
   "execution_count": 91,
   "metadata": {
    "collapsed": false
   },
   "outputs": [],
   "source": [
    "dd2.to_csv('Solutionsleave.csv', index = False)"
   ]
  },
  {
   "cell_type": "markdown",
   "metadata": {},
   "source": [
    "The score from kaggle for the best model \n",
    "0.10739"
   ]
  },
  {
   "cell_type": "markdown",
   "metadata": {
    "collapsed": true
   },
   "source": [
    "The objective is to minimize the logloss value.The lower the logloss value,the higher the acuracy level of the predicted values."
   ]
  }
 ],
 "metadata": {
  "kernelspec": {
   "display_name": "Python 3",
   "language": "python",
   "name": "python3"
  },
  "language_info": {
   "codemirror_mode": {
    "name": "ipython",
    "version": 3
   },
   "file_extension": ".py",
   "mimetype": "text/x-python",
   "name": "python",
   "nbconvert_exporter": "python",
   "pygments_lexer": "ipython3",
   "version": "3.4.3"
  }
 },
 "nbformat": 4,
 "nbformat_minor": 1
}
